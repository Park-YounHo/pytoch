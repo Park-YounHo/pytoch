{
  "nbformat": 4,
  "nbformat_minor": 0,
  "metadata": {
    "colab": {
      "provenance": [],
      "authorship_tag": "ABX9TyO8jzr2dwC+L+DciFoAqxVv",
      "include_colab_link": true
    },
    "kernelspec": {
      "name": "python3",
      "display_name": "Python 3"
    },
    "language_info": {
      "name": "python"
    },
    "accelerator": "GPU",
    "gpuClass": "standard",
    "widgets": {
      "application/vnd.jupyter.widget-state+json": {
        "2bddf3c114bd4f5bbdbbb0aec04ef60e": {
          "model_module": "@jupyter-widgets/controls",
          "model_name": "HBoxModel",
          "model_module_version": "1.5.0",
          "state": {
            "_dom_classes": [],
            "_model_module": "@jupyter-widgets/controls",
            "_model_module_version": "1.5.0",
            "_model_name": "HBoxModel",
            "_view_count": null,
            "_view_module": "@jupyter-widgets/controls",
            "_view_module_version": "1.5.0",
            "_view_name": "HBoxView",
            "box_style": "",
            "children": [
              "IPY_MODEL_c8354cb376ee4c65b0a7678be5c01e59",
              "IPY_MODEL_99509fa38e164c64b34b3fa184d34d87",
              "IPY_MODEL_a0ff9243d75f461e9e235018572887ed"
            ],
            "layout": "IPY_MODEL_b05e9aa9d4d543c1a0c582e7841ce79b"
          }
        },
        "c8354cb376ee4c65b0a7678be5c01e59": {
          "model_module": "@jupyter-widgets/controls",
          "model_name": "HTMLModel",
          "model_module_version": "1.5.0",
          "state": {
            "_dom_classes": [],
            "_model_module": "@jupyter-widgets/controls",
            "_model_module_version": "1.5.0",
            "_model_name": "HTMLModel",
            "_view_count": null,
            "_view_module": "@jupyter-widgets/controls",
            "_view_module_version": "1.5.0",
            "_view_name": "HTMLView",
            "description": "",
            "description_tooltip": null,
            "layout": "IPY_MODEL_27f70103bcb344c7b434082929b57d95",
            "placeholder": "​",
            "style": "IPY_MODEL_603d0ad93c9c40f297436844690ac11f",
            "value": "100%"
          }
        },
        "99509fa38e164c64b34b3fa184d34d87": {
          "model_module": "@jupyter-widgets/controls",
          "model_name": "FloatProgressModel",
          "model_module_version": "1.5.0",
          "state": {
            "_dom_classes": [],
            "_model_module": "@jupyter-widgets/controls",
            "_model_module_version": "1.5.0",
            "_model_name": "FloatProgressModel",
            "_view_count": null,
            "_view_module": "@jupyter-widgets/controls",
            "_view_module_version": "1.5.0",
            "_view_name": "ProgressView",
            "bar_style": "success",
            "description": "",
            "description_tooltip": null,
            "layout": "IPY_MODEL_551ea01da96f442bbf6bca9aefcab068",
            "max": 553433881,
            "min": 0,
            "orientation": "horizontal",
            "style": "IPY_MODEL_575350e1988e43a8a4ecab4208f7bc8c",
            "value": 553433881
          }
        },
        "a0ff9243d75f461e9e235018572887ed": {
          "model_module": "@jupyter-widgets/controls",
          "model_name": "HTMLModel",
          "model_module_version": "1.5.0",
          "state": {
            "_dom_classes": [],
            "_model_module": "@jupyter-widgets/controls",
            "_model_module_version": "1.5.0",
            "_model_name": "HTMLModel",
            "_view_count": null,
            "_view_module": "@jupyter-widgets/controls",
            "_view_module_version": "1.5.0",
            "_view_name": "HTMLView",
            "description": "",
            "description_tooltip": null,
            "layout": "IPY_MODEL_14eacf3565e94b89a8af735597208088",
            "placeholder": "​",
            "style": "IPY_MODEL_cfb6c27798c44f11a8dddcbf9fd2b374",
            "value": " 528M/528M [00:02&lt;00:00, 221MB/s]"
          }
        },
        "b05e9aa9d4d543c1a0c582e7841ce79b": {
          "model_module": "@jupyter-widgets/base",
          "model_name": "LayoutModel",
          "model_module_version": "1.2.0",
          "state": {
            "_model_module": "@jupyter-widgets/base",
            "_model_module_version": "1.2.0",
            "_model_name": "LayoutModel",
            "_view_count": null,
            "_view_module": "@jupyter-widgets/base",
            "_view_module_version": "1.2.0",
            "_view_name": "LayoutView",
            "align_content": null,
            "align_items": null,
            "align_self": null,
            "border": null,
            "bottom": null,
            "display": null,
            "flex": null,
            "flex_flow": null,
            "grid_area": null,
            "grid_auto_columns": null,
            "grid_auto_flow": null,
            "grid_auto_rows": null,
            "grid_column": null,
            "grid_gap": null,
            "grid_row": null,
            "grid_template_areas": null,
            "grid_template_columns": null,
            "grid_template_rows": null,
            "height": null,
            "justify_content": null,
            "justify_items": null,
            "left": null,
            "margin": null,
            "max_height": null,
            "max_width": null,
            "min_height": null,
            "min_width": null,
            "object_fit": null,
            "object_position": null,
            "order": null,
            "overflow": null,
            "overflow_x": null,
            "overflow_y": null,
            "padding": null,
            "right": null,
            "top": null,
            "visibility": null,
            "width": null
          }
        },
        "27f70103bcb344c7b434082929b57d95": {
          "model_module": "@jupyter-widgets/base",
          "model_name": "LayoutModel",
          "model_module_version": "1.2.0",
          "state": {
            "_model_module": "@jupyter-widgets/base",
            "_model_module_version": "1.2.0",
            "_model_name": "LayoutModel",
            "_view_count": null,
            "_view_module": "@jupyter-widgets/base",
            "_view_module_version": "1.2.0",
            "_view_name": "LayoutView",
            "align_content": null,
            "align_items": null,
            "align_self": null,
            "border": null,
            "bottom": null,
            "display": null,
            "flex": null,
            "flex_flow": null,
            "grid_area": null,
            "grid_auto_columns": null,
            "grid_auto_flow": null,
            "grid_auto_rows": null,
            "grid_column": null,
            "grid_gap": null,
            "grid_row": null,
            "grid_template_areas": null,
            "grid_template_columns": null,
            "grid_template_rows": null,
            "height": null,
            "justify_content": null,
            "justify_items": null,
            "left": null,
            "margin": null,
            "max_height": null,
            "max_width": null,
            "min_height": null,
            "min_width": null,
            "object_fit": null,
            "object_position": null,
            "order": null,
            "overflow": null,
            "overflow_x": null,
            "overflow_y": null,
            "padding": null,
            "right": null,
            "top": null,
            "visibility": null,
            "width": null
          }
        },
        "603d0ad93c9c40f297436844690ac11f": {
          "model_module": "@jupyter-widgets/controls",
          "model_name": "DescriptionStyleModel",
          "model_module_version": "1.5.0",
          "state": {
            "_model_module": "@jupyter-widgets/controls",
            "_model_module_version": "1.5.0",
            "_model_name": "DescriptionStyleModel",
            "_view_count": null,
            "_view_module": "@jupyter-widgets/base",
            "_view_module_version": "1.2.0",
            "_view_name": "StyleView",
            "description_width": ""
          }
        },
        "551ea01da96f442bbf6bca9aefcab068": {
          "model_module": "@jupyter-widgets/base",
          "model_name": "LayoutModel",
          "model_module_version": "1.2.0",
          "state": {
            "_model_module": "@jupyter-widgets/base",
            "_model_module_version": "1.2.0",
            "_model_name": "LayoutModel",
            "_view_count": null,
            "_view_module": "@jupyter-widgets/base",
            "_view_module_version": "1.2.0",
            "_view_name": "LayoutView",
            "align_content": null,
            "align_items": null,
            "align_self": null,
            "border": null,
            "bottom": null,
            "display": null,
            "flex": null,
            "flex_flow": null,
            "grid_area": null,
            "grid_auto_columns": null,
            "grid_auto_flow": null,
            "grid_auto_rows": null,
            "grid_column": null,
            "grid_gap": null,
            "grid_row": null,
            "grid_template_areas": null,
            "grid_template_columns": null,
            "grid_template_rows": null,
            "height": null,
            "justify_content": null,
            "justify_items": null,
            "left": null,
            "margin": null,
            "max_height": null,
            "max_width": null,
            "min_height": null,
            "min_width": null,
            "object_fit": null,
            "object_position": null,
            "order": null,
            "overflow": null,
            "overflow_x": null,
            "overflow_y": null,
            "padding": null,
            "right": null,
            "top": null,
            "visibility": null,
            "width": null
          }
        },
        "575350e1988e43a8a4ecab4208f7bc8c": {
          "model_module": "@jupyter-widgets/controls",
          "model_name": "ProgressStyleModel",
          "model_module_version": "1.5.0",
          "state": {
            "_model_module": "@jupyter-widgets/controls",
            "_model_module_version": "1.5.0",
            "_model_name": "ProgressStyleModel",
            "_view_count": null,
            "_view_module": "@jupyter-widgets/base",
            "_view_module_version": "1.2.0",
            "_view_name": "StyleView",
            "bar_color": null,
            "description_width": ""
          }
        },
        "14eacf3565e94b89a8af735597208088": {
          "model_module": "@jupyter-widgets/base",
          "model_name": "LayoutModel",
          "model_module_version": "1.2.0",
          "state": {
            "_model_module": "@jupyter-widgets/base",
            "_model_module_version": "1.2.0",
            "_model_name": "LayoutModel",
            "_view_count": null,
            "_view_module": "@jupyter-widgets/base",
            "_view_module_version": "1.2.0",
            "_view_name": "LayoutView",
            "align_content": null,
            "align_items": null,
            "align_self": null,
            "border": null,
            "bottom": null,
            "display": null,
            "flex": null,
            "flex_flow": null,
            "grid_area": null,
            "grid_auto_columns": null,
            "grid_auto_flow": null,
            "grid_auto_rows": null,
            "grid_column": null,
            "grid_gap": null,
            "grid_row": null,
            "grid_template_areas": null,
            "grid_template_columns": null,
            "grid_template_rows": null,
            "height": null,
            "justify_content": null,
            "justify_items": null,
            "left": null,
            "margin": null,
            "max_height": null,
            "max_width": null,
            "min_height": null,
            "min_width": null,
            "object_fit": null,
            "object_position": null,
            "order": null,
            "overflow": null,
            "overflow_x": null,
            "overflow_y": null,
            "padding": null,
            "right": null,
            "top": null,
            "visibility": null,
            "width": null
          }
        },
        "cfb6c27798c44f11a8dddcbf9fd2b374": {
          "model_module": "@jupyter-widgets/controls",
          "model_name": "DescriptionStyleModel",
          "model_module_version": "1.5.0",
          "state": {
            "_model_module": "@jupyter-widgets/controls",
            "_model_module_version": "1.5.0",
            "_model_name": "DescriptionStyleModel",
            "_view_count": null,
            "_view_module": "@jupyter-widgets/base",
            "_view_module_version": "1.2.0",
            "_view_name": "StyleView",
            "description_width": ""
          }
        }
      }
    }
  },
  "cells": [
    {
      "cell_type": "markdown",
      "metadata": {
        "id": "view-in-github",
        "colab_type": "text"
      },
      "source": [
        "<a href=\"https://colab.research.google.com/github/Park-YounHo/pytoch/blob/main/ah2.ipynb\" target=\"_parent\"><img src=\"https://colab.research.google.com/assets/colab-badge.svg\" alt=\"Open In Colab\"/></a>"
      ]
    },
    {
      "cell_type": "code",
      "execution_count": 1,
      "metadata": {
        "id": "g5aBBpoPPLKb"
      },
      "outputs": [],
      "source": [
        "import os\n",
        "import urllib.request\n",
        "import zipfile\n",
        "import tarfile\n",
        "\n",
        "image_dir = \"./\"\n",
        "\n",
        "url = 'http://abit.ly/koagev'\n",
        "target_path = os.path.join(image_dir, \"image.tar\") \n",
        "\n",
        "if not os.path.exists(target_path):\n",
        "    urllib.request.urlretrieve(url, target_path)\n",
        "\n",
        "    tar = tarfile.TarFile(target_path) \n",
        "    tar.extractall(image_dir)\n",
        "    tar.close()"
      ]
    },
    {
      "cell_type": "code",
      "source": [
        "os.remove('./image/val/human/desktop.ini')\n",
        "os.remove('./image/train/human/desktop.ini')"
      ],
      "metadata": {
        "id": "aKjl5pVQPUrw"
      },
      "execution_count": 2,
      "outputs": []
    },
    {
      "cell_type": "code",
      "source": [
        "import cv2 as cv\n",
        "from google.colab.patches import cv2_imshow\n",
        "\n",
        "for i in os.listdir('./image/val/ai/'):\n",
        "    path = './image/val/ai/'+i \n",
        "\n",
        "    img = cv.imread(path)\n",
        "    cv.imwrite(path,img)\n",
        "\n",
        "for i in os.listdir('./image/val/human/'):\n",
        "    path = './image/val/human/'+i \n",
        "\n",
        "    img = cv.imread(path)\n",
        "    cv.imwrite(path,img)\n",
        "\n",
        "for i in os.listdir('./image/train/ai/'):\n",
        "    path = './image/train/ai/'+i \n",
        "\n",
        "    img = cv.imread(path)\n",
        "    cv.imwrite(path,img)\n",
        "\n",
        "for i in os.listdir('./image/train/human/'):\n",
        "    path = './image/train/human/'+i \n",
        "\n",
        "    img = cv.imread(path)\n",
        "    cv.imwrite(path,img)"
      ],
      "metadata": {
        "id": "HN0J7xGtXyzr"
      },
      "execution_count": null,
      "outputs": []
    },
    {
      "cell_type": "code",
      "source": [
        "import glob\n",
        "import os.path as osp\n",
        "import random\n",
        "import numpy as np\n",
        "import json\n",
        "from PIL import Image\n",
        "from tqdm import tqdm\n",
        "import matplotlib.pyplot as plt\n",
        "%matplotlib inline\n",
        "\n",
        "import torch\n",
        "import torch.nn as nn\n",
        "import torch.optim as optim\n",
        "import torch.utils.data as data\n",
        "import torchvision\n",
        "from torchvision import models, transforms"
      ],
      "metadata": {
        "id": "eFbjY8tNYuG6"
      },
      "execution_count": 3,
      "outputs": []
    },
    {
      "cell_type": "code",
      "source": [
        "torch.manual_seed(1234)\n",
        "np.random.seed(1234)\n",
        "random.seed(1234)"
      ],
      "metadata": {
        "id": "DwqRIQF4Yx17"
      },
      "execution_count": 4,
      "outputs": []
    },
    {
      "cell_type": "code",
      "source": [
        "class ImageTransform():\n",
        "\n",
        "    def __init__(self, resize, mean, std):\n",
        "        self.data_transform = {\n",
        "            'train': transforms.Compose([\n",
        "                transforms.RandomResizedCrop(\n",
        "                    resize, scale=(0.5, 1.0)),  # 데이터 확장\n",
        "                transforms.RandomHorizontalFlip(),  # 데이터 확장\n",
        "                transforms.ToTensor(),  # 텐서로 변환\n",
        "                transforms.Normalize(mean, std)  # 표준화\n",
        "            ]),\n",
        "            'val': transforms.Compose([\n",
        "                transforms.Resize(resize),  # 리사이즈\n",
        "                transforms.CenterCrop(resize),  # 이미지 중앙을 resize × resize로 자른다\n",
        "                transforms.ToTensor(),  # 텐서로 변환\n",
        "                transforms.Normalize(mean, std)  # 표준화\n",
        "            ])\n",
        "        }\n",
        "\n",
        "    def __call__(self, img, phase='train'):\n",
        "        return self.data_transform[phase](img)"
      ],
      "metadata": {
        "id": "HeJZx8b8Y4Zt"
      },
      "execution_count": 5,
      "outputs": []
    },
    {
      "cell_type": "code",
      "source": [
        "image_file_path = './1.png'\n",
        "img = Image.open(image_file_path).convert('RGB')   # [높이][폭][색RGB]\n",
        "\n",
        "# 2. 원본 화상 표시\n",
        "plt.imshow(img)\n",
        "plt.show()\n",
        "\n",
        "# 3. 화상 전처리, 처리된 화상을 표시\n",
        "size = 224\n",
        "mean = (0.485, 0.456, 0.406)\n",
        "std = (0.229, 0.224, 0.225)\n",
        "\n",
        "transform = ImageTransform(size, mean, std)\n",
        "img_transformed = transform(img, phase=\"train\")  # torch.Size([3, 224, 224])\n",
        "\n",
        "# (색상, 높이, 너비)를 (높이, 너비, 색상)으로 변환하고 0-1로 값을 제한해 표시\n",
        "img_transformed = img_transformed.numpy().transpose((1, 2, 0))\n",
        "img_transformed = np.clip(img_transformed, 0, 1)\n",
        "plt.imshow(img_transformed)\n",
        "plt.show()"
      ],
      "metadata": {
        "id": "zbNDkfH5ZBCB",
        "colab": {
          "base_uri": "https://localhost:8080/",
          "height": 376
        },
        "outputId": "8344d914-bee6-412b-9d0c-915c8971d69e"
      },
      "execution_count": 6,
      "outputs": [
        {
          "output_type": "error",
          "ename": "FileNotFoundError",
          "evalue": "ignored",
          "traceback": [
            "\u001b[0;31m---------------------------------------------------------------------------\u001b[0m",
            "\u001b[0;31mFileNotFoundError\u001b[0m                         Traceback (most recent call last)",
            "\u001b[0;32m<ipython-input-6-b392343ae35e>\u001b[0m in \u001b[0;36m<module>\u001b[0;34m\u001b[0m\n\u001b[1;32m      1\u001b[0m \u001b[0mimage_file_path\u001b[0m \u001b[0;34m=\u001b[0m \u001b[0;34m'./1.png'\u001b[0m\u001b[0;34m\u001b[0m\u001b[0;34m\u001b[0m\u001b[0m\n\u001b[0;32m----> 2\u001b[0;31m \u001b[0mimg\u001b[0m \u001b[0;34m=\u001b[0m \u001b[0mImage\u001b[0m\u001b[0;34m.\u001b[0m\u001b[0mopen\u001b[0m\u001b[0;34m(\u001b[0m\u001b[0mimage_file_path\u001b[0m\u001b[0;34m)\u001b[0m\u001b[0;34m.\u001b[0m\u001b[0mconvert\u001b[0m\u001b[0;34m(\u001b[0m\u001b[0;34m'RGB'\u001b[0m\u001b[0;34m)\u001b[0m   \u001b[0;31m# [높이][폭][색RGB]\u001b[0m\u001b[0;34m\u001b[0m\u001b[0;34m\u001b[0m\u001b[0m\n\u001b[0m\u001b[1;32m      3\u001b[0m \u001b[0;34m\u001b[0m\u001b[0m\n\u001b[1;32m      4\u001b[0m \u001b[0;31m# 2. 원본 화상 표시\u001b[0m\u001b[0;34m\u001b[0m\u001b[0;34m\u001b[0m\u001b[0;34m\u001b[0m\u001b[0m\n\u001b[1;32m      5\u001b[0m \u001b[0mplt\u001b[0m\u001b[0;34m.\u001b[0m\u001b[0mimshow\u001b[0m\u001b[0;34m(\u001b[0m\u001b[0mimg\u001b[0m\u001b[0;34m)\u001b[0m\u001b[0;34m\u001b[0m\u001b[0;34m\u001b[0m\u001b[0m\n",
            "\u001b[0;32m/usr/local/lib/python3.8/dist-packages/PIL/Image.py\u001b[0m in \u001b[0;36mopen\u001b[0;34m(fp, mode)\u001b[0m\n\u001b[1;32m   2841\u001b[0m \u001b[0;34m\u001b[0m\u001b[0m\n\u001b[1;32m   2842\u001b[0m     \u001b[0;32mif\u001b[0m \u001b[0mfilename\u001b[0m\u001b[0;34m:\u001b[0m\u001b[0;34m\u001b[0m\u001b[0;34m\u001b[0m\u001b[0m\n\u001b[0;32m-> 2843\u001b[0;31m         \u001b[0mfp\u001b[0m \u001b[0;34m=\u001b[0m \u001b[0mbuiltins\u001b[0m\u001b[0;34m.\u001b[0m\u001b[0mopen\u001b[0m\u001b[0;34m(\u001b[0m\u001b[0mfilename\u001b[0m\u001b[0;34m,\u001b[0m \u001b[0;34m\"rb\"\u001b[0m\u001b[0;34m)\u001b[0m\u001b[0;34m\u001b[0m\u001b[0;34m\u001b[0m\u001b[0m\n\u001b[0m\u001b[1;32m   2844\u001b[0m         \u001b[0mexclusive_fp\u001b[0m \u001b[0;34m=\u001b[0m \u001b[0;32mTrue\u001b[0m\u001b[0;34m\u001b[0m\u001b[0;34m\u001b[0m\u001b[0m\n\u001b[1;32m   2845\u001b[0m \u001b[0;34m\u001b[0m\u001b[0m\n",
            "\u001b[0;31mFileNotFoundError\u001b[0m: [Errno 2] No such file or directory: './1.png'"
          ]
        }
      ]
    },
    {
      "cell_type": "code",
      "source": [
        "def make_datapath_list(phase=\"train\"):\n",
        "\n",
        "    rootpath = \"./image/\"\n",
        "    target_path = osp.join(rootpath+phase+'/**/*.png')\n",
        "    print(target_path)\n",
        "\n",
        "    path_list = []  # 여기에 저장한다\n",
        "\n",
        "    # glob을 이용하여 하위 디렉토리의 파일 경로를 가져온다\n",
        "    for path in glob.glob(target_path):\n",
        "        path_list.append(path)\n",
        "\n",
        "    return path_list\n",
        "\n",
        "\n",
        "# 실행\n",
        "train_list = make_datapath_list(phase=\"train\")\n",
        "val_list = make_datapath_list(phase=\"val\")\n",
        "\n",
        "val_list"
      ],
      "metadata": {
        "colab": {
          "base_uri": "https://localhost:8080/"
        },
        "id": "ZUUCW8CflVCh",
        "outputId": "8d2b8845-c760-4215-a35e-d2137378f7f9"
      },
      "execution_count": 7,
      "outputs": [
        {
          "output_type": "stream",
          "name": "stdout",
          "text": [
            "./image/train/**/*.png\n",
            "./image/val/**/*.png\n"
          ]
        },
        {
          "output_type": "execute_result",
          "data": {
            "text/plain": [
              "['./image/val/ai/10537.png',\n",
              " './image/val/ai/10159.png',\n",
              " './image/val/ai/8937.png',\n",
              " './image/val/ai/8460.png',\n",
              " './image/val/ai/8807.png',\n",
              " './image/val/ai/10113.png',\n",
              " './image/val/ai/9297.png',\n",
              " './image/val/ai/9726.png',\n",
              " './image/val/ai/9279.png',\n",
              " './image/val/ai/9362.png',\n",
              " './image/val/ai/9296.png',\n",
              " './image/val/ai/8738.png',\n",
              " './image/val/ai/8453.png',\n",
              " './image/val/ai/8921.png',\n",
              " './image/val/ai/8160.png',\n",
              " './image/val/ai/9764.png',\n",
              " './image/val/ai/9867.png',\n",
              " './image/val/ai/8970.png',\n",
              " './image/val/ai/9019.png',\n",
              " './image/val/ai/8462.png',\n",
              " './image/val/ai/8874.png',\n",
              " './image/val/ai/9310.png',\n",
              " './image/val/ai/8915.png',\n",
              " './image/val/ai/8938.png',\n",
              " './image/val/ai/9280.png',\n",
              " './image/val/ai/9372.png',\n",
              " './image/val/ai/8707.png',\n",
              " './image/val/ai/8810.png',\n",
              " './image/val/ai/8941.png',\n",
              " './image/val/ai/9255.png',\n",
              " './image/val/ai/9314.png',\n",
              " './image/val/ai/10453.png',\n",
              " './image/val/ai/9283.png',\n",
              " './image/val/ai/8137.png',\n",
              " './image/val/ai/9522.png',\n",
              " './image/val/ai/10196.png',\n",
              " './image/val/ai/9361.png',\n",
              " './image/val/ai/10165.png',\n",
              " './image/val/ai/10154.png',\n",
              " './image/val/ai/9823.png',\n",
              " './image/val/ai/9258.png',\n",
              " './image/val/ai/8871.png',\n",
              " './image/val/ai/8734.png',\n",
              " './image/val/ai/9845.png',\n",
              " './image/val/ai/8194.png',\n",
              " './image/val/ai/8423.png',\n",
              " './image/val/ai/9281.png',\n",
              " './image/val/ai/8952.png',\n",
              " './image/val/ai/9820.png',\n",
              " './image/val/ai/9236.png',\n",
              " './image/val/ai/8161.png',\n",
              " './image/val/ai/8424.png',\n",
              " './image/val/ai/8750.png',\n",
              " './image/val/ai/8793.png',\n",
              " './image/val/ai/8940.png',\n",
              " './image/val/ai/8704.png',\n",
              " './image/val/ai/9300.png',\n",
              " './image/val/ai/9838.png',\n",
              " './image/val/ai/8427.png',\n",
              " './image/val/ai/10536.png',\n",
              " './image/val/ai/9817.png',\n",
              " './image/val/ai/9537.png',\n",
              " './image/val/ai/8939.png',\n",
              " './image/val/ai/9016.png',\n",
              " './image/val/ai/9371.png',\n",
              " './image/val/ai/9262.png',\n",
              " './image/val/ai/8389.png',\n",
              " './image/val/ai/8902.png',\n",
              " './image/val/ai/8073.png',\n",
              " './image/val/ai/10398.png',\n",
              " './image/val/ai/8464.png',\n",
              " './image/val/ai/9553.png',\n",
              " './image/val/ai/8752.png',\n",
              " './image/val/ai/8478.png',\n",
              " './image/val/ai/9295.png',\n",
              " './image/val/ai/8685.png',\n",
              " './image/val/ai/9535.png',\n",
              " './image/val/ai/9245.png',\n",
              " './image/val/ai/8458.png',\n",
              " './image/val/ai/9324.png',\n",
              " './image/val/ai/8481.png',\n",
              " './image/val/ai/9538.png',\n",
              " './image/val/ai/9554.png',\n",
              " './image/val/ai/10168.png',\n",
              " './image/val/ai/9313.png',\n",
              " './image/val/ai/9872.png',\n",
              " './image/val/ai/9821.png',\n",
              " './image/val/ai/9882.png',\n",
              " './image/val/ai/9506.png',\n",
              " './image/val/ai/8094.png',\n",
              " './image/val/ai/8131.png',\n",
              " './image/val/ai/9780.png',\n",
              " './image/val/ai/9305.png',\n",
              " './image/val/ai/9353.png',\n",
              " './image/val/ai/8951.png',\n",
              " './image/val/ai/9298.png',\n",
              " './image/val/ai/9253.png',\n",
              " './image/val/ai/10438.png',\n",
              " './image/val/ai/9842.png',\n",
              " './image/val/ai/9541.png',\n",
              " './image/val/ai/9467.png',\n",
              " './image/val/ai/9299.png',\n",
              " './image/val/ai/8430.png',\n",
              " './image/val/ai/8177.png',\n",
              " './image/val/ai/8735.png',\n",
              " './image/val/ai/8083.png',\n",
              " './image/val/ai/10091.png',\n",
              " './image/val/ai/9705.png',\n",
              " './image/val/ai/8995.png',\n",
              " './image/val/ai/10195.png',\n",
              " './image/val/ai/9364.png',\n",
              " './image/val/ai/8442.png',\n",
              " './image/val/ai/8159.png',\n",
              " './image/val/ai/8087.png',\n",
              " './image/val/ai/10092.png',\n",
              " './image/val/ai/8098.png',\n",
              " './image/val/ai/9818.png',\n",
              " './image/val/ai/10455.png',\n",
              " './image/val/ai/8152.png',\n",
              " './image/val/ai/9486.png',\n",
              " './image/val/ai/9837.png',\n",
              " './image/val/ai/8708.png',\n",
              " './image/val/ai/8809.png',\n",
              " './image/val/ai/9505.png',\n",
              " './image/val/ai/9839.png',\n",
              " './image/val/ai/9243.png',\n",
              " './image/val/ai/9558.png',\n",
              " './image/val/ai/9532.png',\n",
              " './image/val/ai/9301.png',\n",
              " './image/val/ai/10394.png',\n",
              " './image/val/ai/9266.png',\n",
              " './image/val/ai/9282.png',\n",
              " './image/val/ai/8790.png',\n",
              " './image/val/ai/9744.png',\n",
              " './image/val/ai/8095.png',\n",
              " './image/val/ai/8426.png',\n",
              " './image/val/ai/9037.png',\n",
              " './image/val/ai/9278.png',\n",
              " './image/val/ai/9884.png',\n",
              " './image/val/ai/8873.png',\n",
              " './image/val/ai/8829.png',\n",
              " './image/val/ai/10153.png',\n",
              " './image/val/ai/9341.png',\n",
              " './image/val/ai/9347.png',\n",
              " './image/val/ai/9557.png',\n",
              " './image/val/ai/10193.png',\n",
              " './image/val/ai/9351.png',\n",
              " './image/val/ai/9550.png',\n",
              " './image/val/ai/8445.png',\n",
              " './image/val/ai/8405.png',\n",
              " './image/val/ai/9247.png',\n",
              " './image/val/ai/9523.png',\n",
              " './image/val/ai/10459.png',\n",
              " './image/val/ai/8457.png',\n",
              " './image/val/ai/9517.png',\n",
              " './image/val/ai/8436.png',\n",
              " './image/val/ai/10124.png',\n",
              " './image/val/ai/9326.png',\n",
              " './image/val/ai/10095.png',\n",
              " './image/val/ai/9237.png',\n",
              " './image/val/ai/8139.png',\n",
              " './image/val/ai/9446.png',\n",
              " './image/val/ai/8195.png',\n",
              " './image/val/ai/8151.png',\n",
              " './image/val/ai/8443.png',\n",
              " './image/val/ai/10512.png',\n",
              " './image/val/ai/8484.png',\n",
              " './image/val/ai/10117.png',\n",
              " './image/val/ai/8149.png',\n",
              " './image/val/ai/8830.png',\n",
              " './image/val/ai/9242.png',\n",
              " './image/val/ai/10093.png',\n",
              " './image/val/ai/9524.png',\n",
              " './image/val/ai/9354.png',\n",
              " './image/val/ai/9350.png',\n",
              " './image/val/ai/9447.png',\n",
              " './image/val/ai/8770.png',\n",
              " './image/val/ai/9334.png',\n",
              " './image/val/ai/9323.png',\n",
              " './image/val/ai/8447.png',\n",
              " './image/val/ai/10457.png',\n",
              " './image/val/ai/9814.png',\n",
              " './image/val/ai/10399.png',\n",
              " './image/val/ai/8085.png',\n",
              " './image/val/ai/10389.png',\n",
              " './image/val/ai/9747.png',\n",
              " './image/val/ai/8903.png',\n",
              " './image/val/ai/9846.png',\n",
              " './image/val/ai/10456.png',\n",
              " './image/val/ai/8140.png',\n",
              " './image/val/ai/9779.png',\n",
              " './image/val/ai/8132.png',\n",
              " './image/val/ai/8950.png',\n",
              " './image/val/ai/9273.png',\n",
              " './image/val/ai/9308.png',\n",
              " './image/val/ai/9303.png',\n",
              " './image/val/ai/8771.png',\n",
              " './image/val/ai/9520.png',\n",
              " './image/val/ai/9765.png',\n",
              " './image/val/ai/8791.png',\n",
              " './image/val/ai/8794.png',\n",
              " './image/val/ai/9265.png',\n",
              " './image/val/ai/8084.png',\n",
              " './image/val/ai/8687.png',\n",
              " './image/val/ai/8756.png',\n",
              " './image/val/ai/8924.png',\n",
              " './image/val/ai/8994.png',\n",
              " './image/val/ai/10461.png',\n",
              " './image/val/ai/10161.png',\n",
              " './image/val/ai/10110.png',\n",
              " './image/val/ai/8109.png',\n",
              " './image/val/ai/8686.png',\n",
              " './image/val/ai/8901.png',\n",
              " './image/val/ai/8179.png',\n",
              " './image/val/ai/9363.png',\n",
              " './image/val/ai/9329.png',\n",
              " './image/val/ai/8954.png',\n",
              " './image/val/ai/8459.png',\n",
              " './image/val/ai/8905.png',\n",
              " './image/val/ai/9235.png',\n",
              " './image/val/ai/10400.png',\n",
              " './image/val/ai/8115.png',\n",
              " './image/val/ai/8105.png',\n",
              " './image/val/ai/8942.png',\n",
              " './image/val/ai/10115.png',\n",
              " './image/val/ai/10439.png',\n",
              " './image/val/ai/8827.png',\n",
              " './image/val/ai/8831.png',\n",
              " './image/val/ai/9516.png',\n",
              " './image/val/ai/9866.png',\n",
              " './image/val/ai/9861.png',\n",
              " './image/val/ai/8666.png',\n",
              " './image/val/ai/8833.png',\n",
              " './image/val/ai/10407.png',\n",
              " './image/val/ai/10112.png',\n",
              " './image/val/ai/10190.png',\n",
              " './image/val/ai/9260.png',\n",
              " './image/val/ai/9822.png',\n",
              " './image/val/ai/9234.png',\n",
              " './image/val/ai/9533.png',\n",
              " './image/val/ai/10108.png',\n",
              " './image/val/ai/9239.png',\n",
              " './image/val/ai/9836.png',\n",
              " './image/val/ai/8096.png',\n",
              " './image/val/ai/10531.png',\n",
              " './image/val/ai/9274.png',\n",
              " './image/val/ai/9862.png',\n",
              " './image/val/ai/8652.png',\n",
              " './image/val/ai/8150.png',\n",
              " './image/val/ai/9291.png',\n",
              " './image/val/ai/9444.png',\n",
              " './image/val/ai/9863.png',\n",
              " './image/val/ai/9521.png',\n",
              " './image/val/ai/9865.png',\n",
              " './image/val/ai/9468.png',\n",
              " './image/val/ai/9781.png',\n",
              " './image/val/ai/8805.png',\n",
              " './image/val/ai/9540.png',\n",
              " './image/val/ai/9257.png',\n",
              " './image/val/ai/9485.png',\n",
              " './image/val/ai/9241.png',\n",
              " './image/val/ai/8471.png',\n",
              " './image/val/ai/8441.png',\n",
              " './image/val/ai/9293.png',\n",
              " './image/val/ai/8178.png',\n",
              " './image/val/ai/8969.png',\n",
              " './image/val/ai/8444.png',\n",
              " './image/val/ai/9551.png',\n",
              " './image/val/ai/9292.png',\n",
              " './image/val/ai/8792.png',\n",
              " './image/val/ai/9536.png',\n",
              " './image/val/ai/8128.png',\n",
              " './image/val/ai/8387.png',\n",
              " './image/val/ai/8996.png',\n",
              " './image/val/ai/9373.png',\n",
              " './image/val/ai/9507.png',\n",
              " './image/val/ai/9311.png',\n",
              " './image/val/ai/8479.png',\n",
              " './image/val/ai/9352.png',\n",
              " './image/val/ai/8875.png',\n",
              " './image/val/ai/8480.png',\n",
              " './image/val/ai/9761.png',\n",
              " './image/val/ai/9556.png',\n",
              " './image/val/ai/9340.png',\n",
              " './image/val/ai/8757.png',\n",
              " './image/val/ai/8136.png',\n",
              " './image/val/ai/8198.png',\n",
              " './image/val/ai/8665.png',\n",
              " './image/val/ai/9020.png',\n",
              " './image/val/ai/9240.png',\n",
              " './image/val/ai/10535.png',\n",
              " './image/val/ai/8485.png',\n",
              " './image/val/ai/9277.png',\n",
              " './image/val/ai/8655.png',\n",
              " './image/val/ai/10183.png',\n",
              " './image/val/ai/9343.png',\n",
              " './image/val/ai/9321.png',\n",
              " './image/val/ai/9327.png',\n",
              " './image/val/ai/8768.png',\n",
              " './image/val/ai/8971.png',\n",
              " './image/val/ai/10189.png',\n",
              " './image/val/ai/8753.png',\n",
              " './image/val/ai/8973.png',\n",
              " './image/val/ai/9272.png',\n",
              " './image/val/ai/8755.png',\n",
              " './image/val/ai/8773.png',\n",
              " './image/val/ai/8116.png',\n",
              " './image/val/ai/8113.png',\n",
              " './image/val/ai/8075.png',\n",
              " './image/val/ai/9883.png',\n",
              " './image/val/ai/9885.png',\n",
              " './image/val/ai/9302.png',\n",
              " './image/val/ai/8706.png',\n",
              " './image/val/ai/9322.png',\n",
              " './image/val/ai/10162.png',\n",
              " './image/val/ai/8918.png',\n",
              " './image/val/ai/8654.png',\n",
              " './image/val/ai/8739.png',\n",
              " './image/val/ai/8386.png',\n",
              " './image/val/ai/8705.png',\n",
              " './image/val/ai/8789.png',\n",
              " './image/val/ai/8461.png',\n",
              " './image/val/ai/10534.png',\n",
              " './image/val/ai/9725.png',\n",
              " './image/val/ai/9276.png',\n",
              " './image/val/ai/8832.png',\n",
              " './image/val/ai/8906.png',\n",
              " './image/val/ai/8129.png',\n",
              " './image/val/ai/9723.png',\n",
              " './image/val/ai/8923.png',\n",
              " './image/val/ai/8993.png',\n",
              " './image/val/ai/9263.png',\n",
              " './image/val/ai/9539.png',\n",
              " './image/val/ai/8482.png',\n",
              " './image/val/ai/9244.png',\n",
              " './image/val/ai/8440.png',\n",
              " './image/val/ai/8737.png',\n",
              " './image/val/ai/9552.png',\n",
              " './image/val/ai/9304.png',\n",
              " './image/val/ai/10192.png',\n",
              " './image/val/ai/9531.png',\n",
              " './image/val/ai/9365.png',\n",
              " './image/val/ai/9038.png',\n",
              " './image/val/ai/9864.png',\n",
              " './image/val/ai/8876.png',\n",
              " './image/val/ai/9294.png',\n",
              " './image/val/ai/10188.png',\n",
              " './image/val/ai/8736.png',\n",
              " './image/val/ai/8812.png',\n",
              " './image/val/ai/10107.png',\n",
              " './image/val/ai/10511.png',\n",
              " './image/val/ai/10166.png',\n",
              " './image/val/ai/8175.png',\n",
              " './image/val/ai/8944.png',\n",
              " './image/val/ai/8419.png',\n",
              " './image/val/ai/8943.png',\n",
              " './image/val/ai/8086.png',\n",
              " './image/val/ai/9254.png',\n",
              " './image/val/ai/9036.png',\n",
              " './image/val/ai/8772.png',\n",
              " './image/val/ai/8872.png',\n",
              " './image/val/ai/9487.png',\n",
              " './image/val/ai/8769.png',\n",
              " './image/val/ai/8429.png',\n",
              " './image/val/ai/9034.png',\n",
              " './image/val/ai/9819.png',\n",
              " './image/val/ai/8114.png',\n",
              " './image/val/ai/9017.png',\n",
              " './image/val/ai/9328.png',\n",
              " './image/val/ai/10401.png',\n",
              " './image/val/ai/8811.png',\n",
              " './image/val/ai/10402.png',\n",
              " './image/val/ai/9275.png',\n",
              " './image/val/ai/8404.png',\n",
              " './image/val/ai/8112.png',\n",
              " './image/val/ai/8653.png',\n",
              " './image/val/ai/8074.png',\n",
              " './image/val/ai/8870.png',\n",
              " './image/val/ai/9252.png',\n",
              " './image/val/ai/8667.png',\n",
              " './image/val/ai/10532.png',\n",
              " './image/val/ai/9525.png',\n",
              " './image/val/ai/9256.png',\n",
              " './image/val/ai/9709.png',\n",
              " './image/val/ai/8407.png',\n",
              " './image/val/ai/8922.png',\n",
              " './image/val/ai/9840.png',\n",
              " './image/val/ai/8388.png',\n",
              " './image/val/ai/9534.png',\n",
              " './image/val/ai/8158.png',\n",
              " './image/val/ai/8197.png',\n",
              " './image/val/ai/8406.png',\n",
              " './image/val/ai/8916.png',\n",
              " './image/val/ai/8111.png',\n",
              " './image/val/ai/8726.png',\n",
              " './image/val/ai/8651.png',\n",
              " './image/val/ai/9325.png',\n",
              " './image/val/ai/8425.png',\n",
              " './image/val/ai/9339.png',\n",
              " './image/val/ai/9465.png',\n",
              " './image/val/human/5870447.png',\n",
              " './image/val/human/5870055.png',\n",
              " './image/val/human/5869662.png',\n",
              " './image/val/human/5870333.png',\n",
              " './image/val/human/5869271.png',\n",
              " './image/val/human/5870099.png',\n",
              " './image/val/human/5869710.png',\n",
              " './image/val/human/5870007.png',\n",
              " './image/val/human/5869891.png',\n",
              " './image/val/human/5869304.png',\n",
              " './image/val/human/5870322.png',\n",
              " './image/val/human/5870455.png',\n",
              " './image/val/human/5870622.png',\n",
              " './image/val/human/5870065.png',\n",
              " './image/val/human/5870618.png',\n",
              " './image/val/human/5869319.png',\n",
              " './image/val/human/5870357.png',\n",
              " './image/val/human/5870340.png',\n",
              " './image/val/human/5870655.png',\n",
              " './image/val/human/5869475.png',\n",
              " './image/val/human/5869632.png',\n",
              " './image/val/human/5870038.png',\n",
              " './image/val/human/5869621.png',\n",
              " './image/val/human/5870443.png',\n",
              " './image/val/human/5870368.png',\n",
              " './image/val/human/5870795.png',\n",
              " './image/val/human/5870630.png',\n",
              " './image/val/human/5870771.png',\n",
              " './image/val/human/5869590.png',\n",
              " './image/val/human/5869719.png',\n",
              " './image/val/human/5870682.png',\n",
              " './image/val/human/5870296.png',\n",
              " './image/val/human/5870240.png',\n",
              " './image/val/human/5869478.png',\n",
              " './image/val/human/5869207.png',\n",
              " './image/val/human/5869902.png',\n",
              " './image/val/human/5869943.png',\n",
              " './image/val/human/5869734.png',\n",
              " './image/val/human/5870011.png',\n",
              " './image/val/human/5869572.png',\n",
              " './image/val/human/5870446.png',\n",
              " './image/val/human/5869274.png',\n",
              " './image/val/human/5870053.png',\n",
              " './image/val/human/5869762.png',\n",
              " './image/val/human/5870241.png',\n",
              " './image/val/human/5870441.png',\n",
              " './image/val/human/5869948.png',\n",
              " './image/val/human/5870385.png',\n",
              " './image/val/human/5870438.png',\n",
              " './image/val/human/5869871.png',\n",
              " './image/val/human/5869256.png',\n",
              " './image/val/human/5869899.png',\n",
              " './image/val/human/5871012.png',\n",
              " './image/val/human/5869705.png',\n",
              " './image/val/human/5869704.png',\n",
              " './image/val/human/5869763.png',\n",
              " './image/val/human/5869588.png',\n",
              " './image/val/human/5870283.png',\n",
              " './image/val/human/5870657.png',\n",
              " './image/val/human/5870387.png',\n",
              " './image/val/human/5869674.png',\n",
              " './image/val/human/5870064.png',\n",
              " './image/val/human/5869641.png',\n",
              " './image/val/human/5869957.png',\n",
              " './image/val/human/5870988.png',\n",
              " './image/val/human/5869865.png',\n",
              " './image/val/human/5869935.png',\n",
              " './image/val/human/5869272.png',\n",
              " './image/val/human/5869609.png',\n",
              " './image/val/human/5869954.png',\n",
              " './image/val/human/5869919.png',\n",
              " './image/val/human/5870429.png',\n",
              " './image/val/human/5869712.png',\n",
              " './image/val/human/5870239.png',\n",
              " './image/val/human/5869232.png',\n",
              " './image/val/human/5869856.png',\n",
              " './image/val/human/5870621.png',\n",
              " './image/val/human/5870293.png',\n",
              " './image/val/human/5870635.png',\n",
              " './image/val/human/5870319.png',\n",
              " './image/val/human/5870392.png',\n",
              " './image/val/human/5870822.png',\n",
              " './image/val/human/5870659.png',\n",
              " './image/val/human/5869864.png',\n",
              " './image/val/human/5869941.png',\n",
              " './image/val/human/5870336.png',\n",
              " './image/val/human/5870339.png',\n",
              " './image/val/human/5869292.png',\n",
              " './image/val/human/5870459.png',\n",
              " './image/val/human/5869606.png',\n",
              " './image/val/human/5869277.png',\n",
              " './image/val/human/5869616.png',\n",
              " './image/val/human/5870827.png',\n",
              " './image/val/human/5869619.png',\n",
              " './image/val/human/5870661.png',\n",
              " './image/val/human/5870427.png',\n",
              " './image/val/human/5869759.png',\n",
              " './image/val/human/5869691.png',\n",
              " './image/val/human/5870437.png',\n",
              " './image/val/human/5870689.png',\n",
              " './image/val/human/5869866.png',\n",
              " './image/val/human/5870457.png',\n",
              " './image/val/human/5870913.png',\n",
              " './image/val/human/5870826.png',\n",
              " './image/val/human/5869681.png',\n",
              " './image/val/human/5869870.png',\n",
              " './image/val/human/5870070.png',\n",
              " './image/val/human/5870852.png',\n",
              " './image/val/human/5869929.png',\n",
              " './image/val/human/5869690.png',\n",
              " './image/val/human/5869915.png',\n",
              " './image/val/human/5870911.png',\n",
              " './image/val/human/5869544.png',\n",
              " './image/val/human/5870421.png',\n",
              " './image/val/human/5869887.png',\n",
              " './image/val/human/5870273.png',\n",
              " './image/val/human/5870460.png',\n",
              " './image/val/human/5869596.png',\n",
              " './image/val/human/5869203.png',\n",
              " './image/val/human/5870082.png',\n",
              " './image/val/human/5869994.png',\n",
              " './image/val/human/5869876.png',\n",
              " './image/val/human/5870912.png',\n",
              " './image/val/human/5870311.png',\n",
              " './image/val/human/5869975.png',\n",
              " './image/val/human/5870366.png',\n",
              " './image/val/human/5869199.png',\n",
              " './image/val/human/5869930.png',\n",
              " './image/val/human/5870021.png',\n",
              " './image/val/human/5870111.png',\n",
              " './image/val/human/5869637.png',\n",
              " './image/val/human/5870426.png',\n",
              " './image/val/human/5869974.png',\n",
              " './image/val/human/5869323.png',\n",
              " './image/val/human/5869206.png',\n",
              " './image/val/human/5869987.png',\n",
              " './image/val/human/5870656.png',\n",
              " './image/val/human/5869301.png',\n",
              " './image/val/human/5869595.png',\n",
              " './image/val/human/5870651.png',\n",
              " './image/val/human/5869990.png',\n",
              " './image/val/human/5869255.png',\n",
              " './image/val/human/5869660.png',\n",
              " './image/val/human/5869573.png',\n",
              " './image/val/human/5870402.png',\n",
              " './image/val/human/5869999.png',\n",
              " './image/val/human/5869665.png',\n",
              " './image/val/human/5869751.png',\n",
              " './image/val/human/5869259.png',\n",
              " './image/val/human/5869647.png',\n",
              " './image/val/human/5869881.png',\n",
              " './image/val/human/5869230.png',\n",
              " './image/val/human/5869903.png',\n",
              " './image/val/human/5870444.png',\n",
              " './image/val/human/5869506.png',\n",
              " './image/val/human/5869471.png',\n",
              " './image/val/human/5869615.png',\n",
              " './image/val/human/5869630.png',\n",
              " './image/val/human/5869470.png',\n",
              " './image/val/human/5870773.png',\n",
              " './image/val/human/5869992.png',\n",
              " './image/val/human/5869299.png',\n",
              " './image/val/human/5870803.png',\n",
              " './image/val/human/5870039.png',\n",
              " './image/val/human/5870583.png',\n",
              " './image/val/human/5870886.png',\n",
              " './image/val/human/5869467.png',\n",
              " './image/val/human/5870342.png',\n",
              " './image/val/human/5870056.png',\n",
              " './image/val/human/5870420.png',\n",
              " './image/val/human/5869895.png',\n",
              " './image/val/human/5870854.png',\n",
              " './image/val/human/5870010.png',\n",
              " './image/val/human/5869748.png',\n",
              " './image/val/human/5870047.png',\n",
              " './image/val/human/5870767.png',\n",
              " './image/val/human/5869565.png',\n",
              " './image/val/human/5869977.png',\n",
              " './image/val/human/5869727.png',\n",
              " './image/val/human/5870361.png',\n",
              " './image/val/human/5869993.png',\n",
              " './image/val/human/5869513.png',\n",
              " './image/val/human/5869503.png',\n",
              " './image/val/human/5869757.png',\n",
              " './image/val/human/5870792.png',\n",
              " './image/val/human/5869295.png',\n",
              " './image/val/human/5869514.png',\n",
              " './image/val/human/5869863.png',\n",
              " './image/val/human/5869906.png',\n",
              " './image/val/human/5869917.png',\n",
              " './image/val/human/5870817.png',\n",
              " './image/val/human/5869754.png',\n",
              " './image/val/human/5870439.png',\n",
              " './image/val/human/5870401.png',\n",
              " './image/val/human/5869997.png',\n",
              " './image/val/human/5871040.png',\n",
              " './image/val/human/5870802.png',\n",
              " './image/val/human/5870236.png',\n",
              " './image/val/human/5869628.png',\n",
              " './image/val/human/5869537.png',\n",
              " './image/val/human/5870297.png',\n",
              " './image/val/human/5870577.png',\n",
              " './image/val/human/5869967.png',\n",
              " './image/val/human/5869228.png',\n",
              " './image/val/human/5869645.png',\n",
              " './image/val/human/5869587.png',\n",
              " './image/val/human/5869322.png',\n",
              " './image/val/human/5870450.png',\n",
              " './image/val/human/5869617.png',\n",
              " './image/val/human/5869542.png',\n",
              " './image/val/human/5870332.png',\n",
              " './image/val/human/5870425.png',\n",
              " './image/val/human/5871042.png',\n",
              " './image/val/human/5869931.png',\n",
              " './image/val/human/5869477.png',\n",
              " './image/val/human/5869889.png',\n",
              " './image/val/human/5870445.png',\n",
              " './image/val/human/5869713.png',\n",
              " './image/val/human/5870068.png',\n",
              " './image/val/human/5869251.png',\n",
              " './image/val/human/5870406.png',\n",
              " './image/val/human/5870104.png',\n",
              " './image/val/human/5869598.png',\n",
              " './image/val/human/5870370.png',\n",
              " './image/val/human/5870380.png',\n",
              " './image/val/human/5869996.png',\n",
              " './image/val/human/5869679.png',\n",
              " './image/val/human/5869509.png',\n",
              " './image/val/human/5869324.png',\n",
              " './image/val/human/5870006.png',\n",
              " './image/val/human/5870398.png',\n",
              " './image/val/human/5869610.png',\n",
              " './image/val/human/5869571.png',\n",
              " './image/val/human/5870576.png',\n",
              " './image/val/human/5869730.png',\n",
              " './image/val/human/5869661.png',\n",
              " './image/val/human/5869541.png',\n",
              " './image/val/human/5870688.png',\n",
              " './image/val/human/5869278.png',\n",
              " './image/val/human/5869318.png',\n",
              " './image/val/human/5869643.png',\n",
              " './image/val/human/5870790.png',\n",
              " './image/val/human/5869938.png',\n",
              " './image/val/human/5869884.png',\n",
              " './image/val/human/5870237.png',\n",
              " './image/val/human/5869192.png',\n",
              " './image/val/human/5870916.png',\n",
              " './image/val/human/5870341.png',\n",
              " './image/val/human/5870044.png',\n",
              " './image/val/human/5870623.png',\n",
              " './image/val/human/5869614.png',\n",
              " './image/val/human/5869761.png',\n",
              " './image/val/human/5870315.png',\n",
              " './image/val/human/5869940.png',\n",
              " './image/val/human/5869667.png',\n",
              " './image/val/human/5869670.png',\n",
              " './image/val/human/5871014.png',\n",
              " './image/val/human/5869567.png',\n",
              " './image/val/human/5870403.png',\n",
              " './image/val/human/5869926.png',\n",
              " './image/val/human/5869508.png',\n",
              " './image/val/human/5870631.png',\n",
              " './image/val/human/5869644.png',\n",
              " './image/val/human/5870390.png',\n",
              " './image/val/human/5869535.png',\n",
              " './image/val/human/5870853.png',\n",
              " './image/val/human/5870314.png',\n",
              " './image/val/human/5869939.png',\n",
              " './image/val/human/5869984.png',\n",
              " './image/val/human/5870110.png',\n",
              " './image/val/human/5869949.png',\n",
              " './image/val/human/5869658.png',\n",
              " './image/val/human/5870235.png',\n",
              " './image/val/human/5869635.png',\n",
              " './image/val/human/5870364.png',\n",
              " './image/val/human/5869673.png',\n",
              " './image/val/human/5869937.png',\n",
              " './image/val/human/5870067.png',\n",
              " './image/val/human/5870245.png',\n",
              " './image/val/human/5870857.png',\n",
              " './image/val/human/5870391.png',\n",
              " './image/val/human/5869250.png',\n",
              " './image/val/human/5869760.png',\n",
              " './image/val/human/5869469.png',\n",
              " './image/val/human/5869531.png',\n",
              " './image/val/human/5869655.png',\n",
              " './image/val/human/5869638.png',\n",
              " './image/val/human/5869904.png',\n",
              " './image/val/human/5869859.png',\n",
              " './image/val/human/5870005.png',\n",
              " './image/val/human/5870098.png',\n",
              " './image/val/human/5869620.png',\n",
              " './image/val/human/5870238.png',\n",
              " './image/val/human/5869235.png',\n",
              " './image/val/human/5869659.png',\n",
              " './image/val/human/5869193.png',\n",
              " './image/val/human/5870103.png',\n",
              " './image/val/human/5870461.png',\n",
              " './image/val/human/5869622.png',\n",
              " './image/val/human/5869317.png',\n",
              " './image/val/human/5870451.png',\n",
              " './image/val/human/5870286.png',\n",
              " './image/val/human/5870080.png',\n",
              " './image/val/human/5869968.png',\n",
              " './image/val/human/5869631.png',\n",
              " './image/val/human/5870354.png',\n",
              " './image/val/human/5869566.png',\n",
              " './image/val/human/5870584.png',\n",
              " './image/val/human/5869236.png',\n",
              " './image/val/human/5869979.png',\n",
              " './image/val/human/5870411.png',\n",
              " './image/val/human/5869731.png',\n",
              " './image/val/human/5869920.png',\n",
              " './image/val/human/5870415.png',\n",
              " './image/val/human/5870379.png',\n",
              " './image/val/human/5869677.png',\n",
              " './image/val/human/5870989.png',\n",
              " './image/val/human/5870442.png',\n",
              " './image/val/human/5869320.png',\n",
              " './image/val/human/5870395.png',\n",
              " './image/val/human/5869952.png',\n",
              " './image/val/human/5869927.png',\n",
              " './image/val/human/5871043.png',\n",
              " './image/val/human/5869897.png',\n",
              " './image/val/human/5869608.png',\n",
              " './image/val/human/5869231.png',\n",
              " './image/val/human/5869253.png',\n",
              " './image/val/human/5870394.png',\n",
              " './image/val/human/5869858.png',\n",
              " './image/val/human/5870878.png',\n",
              " './image/val/human/5871015.png',\n",
              " './image/val/human/5869717.png',\n",
              " './image/val/human/5870066.png',\n",
              " './image/val/human/5870879.png',\n",
              " './image/val/human/5869570.png',\n",
              " './image/val/human/5869728.png',\n",
              " './image/val/human/5870579.png',\n",
              " './image/val/human/5870105.png',\n",
              " './image/val/human/5869905.png',\n",
              " './image/val/human/5870580.png',\n",
              " './image/val/human/5869928.png',\n",
              " './image/val/human/5869883.png',\n",
              " './image/val/human/5869666.png',\n",
              " './image/val/human/5870413.png',\n",
              " './image/val/human/5869739.png',\n",
              " './image/val/human/5870325.png',\n",
              " './image/val/human/5869225.png',\n",
              " './image/val/human/5870107.png',\n",
              " './image/val/human/5870585.png',\n",
              " './image/val/human/5870324.png',\n",
              " './image/val/human/5870772.png',\n",
              " './image/val/human/5869269.png',\n",
              " './image/val/human/5869729.png',\n",
              " './image/val/human/5869254.png',\n",
              " './image/val/human/5869738.png',\n",
              " './image/val/human/5869973.png',\n",
              " './image/val/human/5870320.png',\n",
              " './image/val/human/5870000.png',\n",
              " './image/val/human/5870987.png',\n",
              " './image/val/human/5869714.png',\n",
              " './image/val/human/5869882.png',\n",
              " './image/val/human/5869593.png',\n",
              " './image/val/human/5869516.png',\n",
              " './image/val/human/5869934.png',\n",
              " './image/val/human/5869296.png',\n",
              " './image/val/human/5870849.png',\n",
              " './image/val/human/5870690.png',\n",
              " './image/val/human/5869511.png',\n",
              " './image/val/human/5869924.png',\n",
              " './image/val/human/5870362.png',\n",
              " './image/val/human/5869980.png',\n",
              " './image/val/human/5869623.png',\n",
              " './image/val/human/5869205.png',\n",
              " './image/val/human/5869611.png',\n",
              " './image/val/human/5870910.png',\n",
              " './image/val/human/5870009.png',\n",
              " './image/val/human/5869564.png',\n",
              " './image/val/human/5869890.png',\n",
              " './image/val/human/5869950.png',\n",
              " './image/val/human/5870686.png',\n",
              " './image/val/human/5870001.png',\n",
              " './image/val/human/5869594.png',\n",
              " './image/val/human/5869528.png',\n",
              " './image/val/human/5869918.png',\n",
              " './image/val/human/5869735.png',\n",
              " './image/val/human/5870681.png',\n",
              " './image/val/human/5869534.png',\n",
              " './image/val/human/5869197.png',\n",
              " './image/val/human/5870658.png',\n",
              " './image/val/human/5870079.png',\n",
              " './image/val/human/5870386.png',\n",
              " './image/val/human/5869982.png',\n",
              " './image/val/human/5870381.png',\n",
              " './image/val/human/5870683.png',\n",
              " './image/val/human/5870326.png',\n",
              " './image/val/human/5869233.png',\n",
              " './image/val/human/5870825.png',\n",
              " './image/val/human/5869472.png',\n",
              " './image/val/human/5870359.png',\n",
              " './image/val/human/5869900.png']"
            ]
          },
          "metadata": {},
          "execution_count": 7
        }
      ]
    },
    {
      "cell_type": "code",
      "source": [
        "# 개미와 벌의 이미지에 대한 Dataset을 작성한다\n",
        "class HymenopteraDataset(data.Dataset):\n",
        "\n",
        "    def __init__(self, file_list, transform=None, phase='train'):\n",
        "        self.file_list = file_list  # 파일 경로 리스트\n",
        "        self.transform = transform  # 전처리 클래스의 인스턴스\n",
        "        self.phase = phase  # train or val 지정\n",
        "\n",
        "    def __len__(self):\n",
        "        '''화상 개수를 반환'''\n",
        "        return len(self.file_list)\n",
        "\n",
        "    def __getitem__(self, index):\n",
        "        '''\n",
        "        전처리한 화상의 Tensor 형식의 데이터와 라벨을 취득\n",
        "        '''\n",
        "\n",
        "        # index번째의 화상을 로드\n",
        "        img_path = self.file_list[index]\n",
        "        img = Image.open(img_path).convert('RGB')  # [높이][너비][색RGB]\n",
        "\n",
        "        # 화상의 전처리를 실시\n",
        "        img_transformed = self.transform(\n",
        "            img, self.phase)  # torch.Size([3, 224, 224])\n",
        "\n",
        "        # 화상 라벨을 파일 이름에서 추출\n",
        "        if self.phase == \"train\":\n",
        "            label = img_path[14:16]\n",
        "        elif self.phase == \"val\":\n",
        "            label = img_path[12:14]\n",
        "\n",
        "        # 라벨을 숫자로 변경\n",
        "        if label == \"ai\":\n",
        "            label = 0\n",
        "        elif label == \"hu\":\n",
        "            label = 1\n",
        "\n",
        "        return img_transformed, label\n",
        "\n",
        "\n",
        "# 실행\n",
        "size = 224\n",
        "mean = (0.485, 0.456, 0.406)\n",
        "std = (0.229, 0.224, 0.225)\n",
        "\n",
        "train_dataset = HymenopteraDataset(\n",
        "    file_list=train_list, transform=ImageTransform(size, mean, std), phase='train')\n",
        "\n",
        "val_dataset = HymenopteraDataset(\n",
        "    file_list=val_list, transform=ImageTransform(size, mean, std), phase='val')\n",
        "\n",
        "# 동작 확인\n",
        "index = 0\n",
        "print(train_dataset.__getitem__(index)[0].size())\n",
        "print(train_dataset.__getitem__(index)[1])\n"
      ],
      "metadata": {
        "colab": {
          "base_uri": "https://localhost:8080/"
        },
        "id": "VhgIWPBZmEC-",
        "outputId": "c00cada3-5698-429c-881f-adb6d3247462"
      },
      "execution_count": 8,
      "outputs": [
        {
          "output_type": "stream",
          "name": "stdout",
          "text": [
            "torch.Size([3, 224, 224])\n",
            "0\n"
          ]
        }
      ]
    },
    {
      "cell_type": "code",
      "source": [
        "batch_size = 32\n",
        "\n",
        "# DataLoader 작성\n",
        "train_dataloader = torch.utils.data.DataLoader(\n",
        "    train_dataset, batch_size=batch_size, shuffle=True)\n",
        "\n",
        "val_dataloader = torch.utils.data.DataLoader(\n",
        "    val_dataset, batch_size=batch_size, shuffle=False)\n",
        "\n",
        "# 사전형 변수에 정리\n",
        "dataloaders_dict = {\"train\": train_dataloader, \"val\": val_dataloader}\n",
        "\n",
        "# 동작 확인\n",
        "batch_iterator = iter(dataloaders_dict[\"train\"])  # 반복자(iterator)로 변환\n",
        "inputs, labels = next(\n",
        "    batch_iterator)  # 첫번째 요소를 추출\n",
        "print(inputs.size())\n",
        "print(labels)\n"
      ],
      "metadata": {
        "colab": {
          "base_uri": "https://localhost:8080/"
        },
        "id": "79HYnkkmmTw1",
        "outputId": "dfd05651-82c4-4b3c-a6e5-54e4b710edc0"
      },
      "execution_count": 9,
      "outputs": [
        {
          "output_type": "stream",
          "name": "stdout",
          "text": [
            "torch.Size([32, 3, 224, 224])\n",
            "tensor([1, 1, 1, 0, 0, 0, 0, 0, 0, 1, 0, 1, 1, 1, 1, 0, 0, 1, 1, 0, 0, 1, 0, 1,\n",
            "        0, 0, 1, 1, 0, 0, 1, 0])\n"
          ]
        }
      ]
    },
    {
      "cell_type": "code",
      "source": [
        "use_pretrained = True  # 학습된 파라미터를 사용\n",
        "net = models.vgg16(pretrained=use_pretrained)\n",
        "\n",
        "# VGG16의 마지막 출력층의 출력 유닛을 개미와 벌의 2개로 바꾼다\n",
        "net.classifier[6] = nn.Linear(in_features=4096, out_features=2)\n",
        "\n",
        "# 훈련 모드로 설정\n",
        "net.train()"
      ],
      "metadata": {
        "colab": {
          "base_uri": "https://localhost:8080/",
          "height": 987,
          "referenced_widgets": [
            "2bddf3c114bd4f5bbdbbb0aec04ef60e",
            "c8354cb376ee4c65b0a7678be5c01e59",
            "99509fa38e164c64b34b3fa184d34d87",
            "a0ff9243d75f461e9e235018572887ed",
            "b05e9aa9d4d543c1a0c582e7841ce79b",
            "27f70103bcb344c7b434082929b57d95",
            "603d0ad93c9c40f297436844690ac11f",
            "551ea01da96f442bbf6bca9aefcab068",
            "575350e1988e43a8a4ecab4208f7bc8c",
            "14eacf3565e94b89a8af735597208088",
            "cfb6c27798c44f11a8dddcbf9fd2b374"
          ]
        },
        "id": "6d_8UYz_s4z_",
        "outputId": "4155c544-d869-46aa-f1b9-1e3a7c6bc5da"
      },
      "execution_count": null,
      "outputs": [
        {
          "output_type": "stream",
          "name": "stderr",
          "text": [
            "/usr/local/lib/python3.8/dist-packages/torchvision/models/_utils.py:208: UserWarning: The parameter 'pretrained' is deprecated since 0.13 and may be removed in the future, please use 'weights' instead.\n",
            "  warnings.warn(\n",
            "/usr/local/lib/python3.8/dist-packages/torchvision/models/_utils.py:223: UserWarning: Arguments other than a weight enum or `None` for 'weights' are deprecated since 0.13 and may be removed in the future. The current behavior is equivalent to passing `weights=VGG16_Weights.IMAGENET1K_V1`. You can also use `weights=VGG16_Weights.DEFAULT` to get the most up-to-date weights.\n",
            "  warnings.warn(msg)\n",
            "Downloading: \"https://download.pytorch.org/models/vgg16-397923af.pth\" to /root/.cache/torch/hub/checkpoints/vgg16-397923af.pth\n"
          ]
        },
        {
          "output_type": "display_data",
          "data": {
            "text/plain": [
              "  0%|          | 0.00/528M [00:00<?, ?B/s]"
            ],
            "application/vnd.jupyter.widget-view+json": {
              "version_major": 2,
              "version_minor": 0,
              "model_id": "2bddf3c114bd4f5bbdbbb0aec04ef60e"
            }
          },
          "metadata": {}
        },
        {
          "output_type": "execute_result",
          "data": {
            "text/plain": [
              "VGG(\n",
              "  (features): Sequential(\n",
              "    (0): Conv2d(3, 64, kernel_size=(3, 3), stride=(1, 1), padding=(1, 1))\n",
              "    (1): ReLU(inplace=True)\n",
              "    (2): Conv2d(64, 64, kernel_size=(3, 3), stride=(1, 1), padding=(1, 1))\n",
              "    (3): ReLU(inplace=True)\n",
              "    (4): MaxPool2d(kernel_size=2, stride=2, padding=0, dilation=1, ceil_mode=False)\n",
              "    (5): Conv2d(64, 128, kernel_size=(3, 3), stride=(1, 1), padding=(1, 1))\n",
              "    (6): ReLU(inplace=True)\n",
              "    (7): Conv2d(128, 128, kernel_size=(3, 3), stride=(1, 1), padding=(1, 1))\n",
              "    (8): ReLU(inplace=True)\n",
              "    (9): MaxPool2d(kernel_size=2, stride=2, padding=0, dilation=1, ceil_mode=False)\n",
              "    (10): Conv2d(128, 256, kernel_size=(3, 3), stride=(1, 1), padding=(1, 1))\n",
              "    (11): ReLU(inplace=True)\n",
              "    (12): Conv2d(256, 256, kernel_size=(3, 3), stride=(1, 1), padding=(1, 1))\n",
              "    (13): ReLU(inplace=True)\n",
              "    (14): Conv2d(256, 256, kernel_size=(3, 3), stride=(1, 1), padding=(1, 1))\n",
              "    (15): ReLU(inplace=True)\n",
              "    (16): MaxPool2d(kernel_size=2, stride=2, padding=0, dilation=1, ceil_mode=False)\n",
              "    (17): Conv2d(256, 512, kernel_size=(3, 3), stride=(1, 1), padding=(1, 1))\n",
              "    (18): ReLU(inplace=True)\n",
              "    (19): Conv2d(512, 512, kernel_size=(3, 3), stride=(1, 1), padding=(1, 1))\n",
              "    (20): ReLU(inplace=True)\n",
              "    (21): Conv2d(512, 512, kernel_size=(3, 3), stride=(1, 1), padding=(1, 1))\n",
              "    (22): ReLU(inplace=True)\n",
              "    (23): MaxPool2d(kernel_size=2, stride=2, padding=0, dilation=1, ceil_mode=False)\n",
              "    (24): Conv2d(512, 512, kernel_size=(3, 3), stride=(1, 1), padding=(1, 1))\n",
              "    (25): ReLU(inplace=True)\n",
              "    (26): Conv2d(512, 512, kernel_size=(3, 3), stride=(1, 1), padding=(1, 1))\n",
              "    (27): ReLU(inplace=True)\n",
              "    (28): Conv2d(512, 512, kernel_size=(3, 3), stride=(1, 1), padding=(1, 1))\n",
              "    (29): ReLU(inplace=True)\n",
              "    (30): MaxPool2d(kernel_size=2, stride=2, padding=0, dilation=1, ceil_mode=False)\n",
              "  )\n",
              "  (avgpool): AdaptiveAvgPool2d(output_size=(7, 7))\n",
              "  (classifier): Sequential(\n",
              "    (0): Linear(in_features=25088, out_features=4096, bias=True)\n",
              "    (1): ReLU(inplace=True)\n",
              "    (2): Dropout(p=0.5, inplace=False)\n",
              "    (3): Linear(in_features=4096, out_features=4096, bias=True)\n",
              "    (4): ReLU(inplace=True)\n",
              "    (5): Dropout(p=0.5, inplace=False)\n",
              "    (6): Linear(in_features=4096, out_features=2, bias=True)\n",
              "  )\n",
              ")"
            ]
          },
          "metadata": {},
          "execution_count": 7
        }
      ]
    },
    {
      "cell_type": "code",
      "source": [
        "criterion = nn.CrossEntropyLoss()"
      ],
      "metadata": {
        "id": "RsCkJ1v8s9nD"
      },
      "execution_count": null,
      "outputs": []
    },
    {
      "cell_type": "code",
      "source": [
        "# 파인 튜닝으로 학습할 파라미터를 params_to_update 변수의 1~3에 저장한다\n",
        "\n",
        "params_to_update_1 = []\n",
        "params_to_update_2 = []\n",
        "params_to_update_3 = []\n",
        "\n",
        "# 학습시킬 층의 파라미터명을 지정\n",
        "update_param_names_1 = [\"features\"]\n",
        "update_param_names_2 = [\"classifier.0.weight\",\n",
        "                        \"classifier.0.bias\", \"classifier.3.weight\", \"classifier.3.bias\"]\n",
        "update_param_names_3 = [\"classifier.6.weight\", \"classifier.6.bias\"]\n",
        "\n",
        "# 파라미터를 각각 리스트에 저장\n",
        "for name, param in net.named_parameters():\n",
        "    if update_param_names_1[0] in name:\n",
        "        param.requires_grad = True\n",
        "        params_to_update_1.append(param)\n",
        "        print(\"params_to_update_1에 저장: \", name)\n",
        "\n",
        "    elif name in update_param_names_2:\n",
        "        param.requires_grad = True\n",
        "        params_to_update_2.append(param)\n",
        "        print(\"params_to_update_2에 저장: \", name)\n",
        "\n",
        "    elif name in update_param_names_3:\n",
        "        param.requires_grad = True\n",
        "        params_to_update_3.append(param)\n",
        "        print(\"params_to_update_3에 저장: \", name)\n",
        "\n",
        "    else:\n",
        "        param.requires_grad = False\n",
        "        print(\"경사 계산없음. 학습하지 않음: \", name)\n"
      ],
      "metadata": {
        "colab": {
          "base_uri": "https://localhost:8080/"
        },
        "id": "yA_d0SN5tBUA",
        "outputId": "23ce5028-f72c-480d-f3d9-8caa0b7f2e56"
      },
      "execution_count": null,
      "outputs": [
        {
          "output_type": "stream",
          "name": "stdout",
          "text": [
            "params_to_update_1에 저장:  features.0.weight\n",
            "params_to_update_1에 저장:  features.0.bias\n",
            "params_to_update_1에 저장:  features.2.weight\n",
            "params_to_update_1에 저장:  features.2.bias\n",
            "params_to_update_1에 저장:  features.5.weight\n",
            "params_to_update_1에 저장:  features.5.bias\n",
            "params_to_update_1에 저장:  features.7.weight\n",
            "params_to_update_1에 저장:  features.7.bias\n",
            "params_to_update_1에 저장:  features.10.weight\n",
            "params_to_update_1에 저장:  features.10.bias\n",
            "params_to_update_1에 저장:  features.12.weight\n",
            "params_to_update_1에 저장:  features.12.bias\n",
            "params_to_update_1에 저장:  features.14.weight\n",
            "params_to_update_1에 저장:  features.14.bias\n",
            "params_to_update_1에 저장:  features.17.weight\n",
            "params_to_update_1에 저장:  features.17.bias\n",
            "params_to_update_1에 저장:  features.19.weight\n",
            "params_to_update_1에 저장:  features.19.bias\n",
            "params_to_update_1에 저장:  features.21.weight\n",
            "params_to_update_1에 저장:  features.21.bias\n",
            "params_to_update_1에 저장:  features.24.weight\n",
            "params_to_update_1에 저장:  features.24.bias\n",
            "params_to_update_1에 저장:  features.26.weight\n",
            "params_to_update_1에 저장:  features.26.bias\n",
            "params_to_update_1에 저장:  features.28.weight\n",
            "params_to_update_1에 저장:  features.28.bias\n",
            "params_to_update_2에 저장:  classifier.0.weight\n",
            "params_to_update_2에 저장:  classifier.0.bias\n",
            "params_to_update_2에 저장:  classifier.3.weight\n",
            "params_to_update_2에 저장:  classifier.3.bias\n",
            "params_to_update_3에 저장:  classifier.6.weight\n",
            "params_to_update_3에 저장:  classifier.6.bias\n"
          ]
        }
      ]
    },
    {
      "cell_type": "code",
      "source": [
        "# 최적화 기법 설정\n",
        "optimizer = optim.SGD([\n",
        "    {'params': params_to_update_1, 'lr': 1e-4},\n",
        "    {'params': params_to_update_2, 'lr': 5e-4},\n",
        "    {'params': params_to_update_3, 'lr': 1e-3}\n",
        "], momentum=0.9)\n"
      ],
      "metadata": {
        "id": "V6oo6xLItEgy"
      },
      "execution_count": null,
      "outputs": []
    },
    {
      "cell_type": "code",
      "source": [
        "# 모델을 학습시키는 함수를 작성\n",
        "def train_model(net, dataloaders_dict, criterion, optimizer, num_epochs):\n",
        "\n",
        "    # 초기 설정\n",
        "    # GPU가 사용 가능한지 확인\n",
        "    device = torch.device(\"cuda:0\" if torch.cuda.is_available() else \"cpu\")\n",
        "    print(\"사용 장치: \", device)\n",
        "\n",
        "    # 네트워크를 GPU로\n",
        "    net.to(device)\n",
        "\n",
        "    # 네트워크가 어느 정도 고정되면, 고속화시킨다\n",
        "    torch.backends.cudnn.benchmark = True\n",
        "\n",
        "    # epoch 루프\n",
        "    for epoch in range(num_epochs):\n",
        "        print('Epoch {}/{}'.format(epoch+1, num_epochs))\n",
        "        print('-------------')\n",
        "\n",
        "        # epoch별 훈련 및 검증 루프\n",
        "        for phase in ['train', 'val']:\n",
        "            if phase == 'train':\n",
        "                net.train()  # 모델을 훈련 모드로\n",
        "            else:\n",
        "                net.eval()   # 모델을 검증 모드로\n",
        "\n",
        "            epoch_loss = 0.0  # epoch 손실의 합\n",
        "            epoch_corrects = 0  # epoch 정답수\n",
        "\n",
        "            # 미학습시의 검증 성능을 확인하기 위해 epoch=0의 훈련은 생략\n",
        "            if (epoch == 0) and (phase == 'train'):\n",
        "                continue\n",
        "\n",
        "            # 데이터 로더에서 미니 배치를 꺼내 루프\n",
        "            for inputs, labels in tqdm(dataloaders_dict[phase]):\n",
        "\n",
        "                # GPU가 사용 가능하면 GPU에 데이터 보내기\n",
        "                inputs = inputs.to(device)\n",
        "                labels = labels.to(device)\n",
        "\n",
        "                # optimizer를 초기화\n",
        "                optimizer.zero_grad()\n",
        "\n",
        "                # 순전파(forward) 계산\n",
        "                with torch.set_grad_enabled(phase == 'train'):\n",
        "                    outputs = net(inputs)\n",
        "                    loss = criterion(outputs, labels)  # 손실 계산\n",
        "                    _, preds = torch.max(outputs, 1)  # 라벨 예측\n",
        "\n",
        "                    # 훈련시에는 오차 역전파법\n",
        "                    if phase == 'train':\n",
        "                        loss.backward()\n",
        "                        optimizer.step()\n",
        "\n",
        "                    # 결과 계산\n",
        "                    epoch_loss += loss.item() * inputs.size(0)  # loss의 합계를 갱신\n",
        "                    # 정답 수의 합계를 갱신\n",
        "                    epoch_corrects += torch.sum(preds == labels.data)\n",
        "\n",
        "            # epoch별 loss와 정답률을 표시\n",
        "            epoch_loss = epoch_loss / len(dataloaders_dict[phase].dataset)\n",
        "            epoch_acc = epoch_corrects.double(\n",
        "            ) / len(dataloaders_dict[phase].dataset)\n",
        "\n",
        "            print('{} Loss: {:.4f} Acc: {:.4f}'.format(\n",
        "                phase, epoch_loss, epoch_acc))\n"
      ],
      "metadata": {
        "id": "RYJJyKV7tFLM"
      },
      "execution_count": null,
      "outputs": []
    },
    {
      "cell_type": "code",
      "source": [
        "# 학습 및 검증을 실행\n",
        "num_epochs=100\n",
        "train_model(net, dataloaders_dict, criterion, optimizer, num_epochs=num_epochs)\n"
      ],
      "metadata": {
        "colab": {
          "base_uri": "https://localhost:8080/"
        },
        "id": "1Fqbyo9ZtIUF",
        "outputId": "6cb95ba2-1b63-42b1-b178-9438f197d0d2"
      },
      "execution_count": null,
      "outputs": [
        {
          "output_type": "stream",
          "name": "stdout",
          "text": [
            "사용 장치:  cuda:0\n",
            "Epoch 1/100\n",
            "-------------\n"
          ]
        },
        {
          "output_type": "stream",
          "name": "stderr",
          "text": [
            "100%|██████████| 25/25 [00:06<00:00,  4.00it/s]\n"
          ]
        },
        {
          "output_type": "stream",
          "name": "stdout",
          "text": [
            "val Loss: 0.7445 Acc: 0.4825\n",
            "Epoch 2/100\n",
            "-------------\n"
          ]
        },
        {
          "output_type": "stream",
          "name": "stderr",
          "text": [
            "100%|██████████| 100/100 [00:56<00:00,  1.76it/s]\n"
          ]
        },
        {
          "output_type": "stream",
          "name": "stdout",
          "text": [
            "train Loss: 0.4905 Acc: 0.7672\n"
          ]
        },
        {
          "output_type": "stream",
          "name": "stderr",
          "text": [
            "100%|██████████| 25/25 [00:06<00:00,  3.90it/s]\n"
          ]
        },
        {
          "output_type": "stream",
          "name": "stdout",
          "text": [
            "val Loss: 0.3821 Acc: 0.8463\n",
            "Epoch 3/100\n",
            "-------------\n"
          ]
        },
        {
          "output_type": "stream",
          "name": "stderr",
          "text": [
            "100%|██████████| 100/100 [00:58<00:00,  1.71it/s]\n"
          ]
        },
        {
          "output_type": "stream",
          "name": "stdout",
          "text": [
            "train Loss: 0.4114 Acc: 0.8209\n"
          ]
        },
        {
          "output_type": "stream",
          "name": "stderr",
          "text": [
            "100%|██████████| 25/25 [00:06<00:00,  3.86it/s]\n"
          ]
        },
        {
          "output_type": "stream",
          "name": "stdout",
          "text": [
            "val Loss: 0.3460 Acc: 0.8650\n",
            "Epoch 4/100\n",
            "-------------\n"
          ]
        },
        {
          "output_type": "stream",
          "name": "stderr",
          "text": [
            "100%|██████████| 100/100 [00:58<00:00,  1.70it/s]\n"
          ]
        },
        {
          "output_type": "stream",
          "name": "stdout",
          "text": [
            "train Loss: 0.3502 Acc: 0.8484\n"
          ]
        },
        {
          "output_type": "stream",
          "name": "stderr",
          "text": [
            "100%|██████████| 25/25 [00:06<00:00,  3.85it/s]\n"
          ]
        },
        {
          "output_type": "stream",
          "name": "stdout",
          "text": [
            "val Loss: 0.3173 Acc: 0.8725\n",
            "Epoch 5/100\n",
            "-------------\n"
          ]
        },
        {
          "output_type": "stream",
          "name": "stderr",
          "text": [
            "100%|██████████| 100/100 [00:59<00:00,  1.69it/s]\n"
          ]
        },
        {
          "output_type": "stream",
          "name": "stdout",
          "text": [
            "train Loss: 0.3086 Acc: 0.8684\n"
          ]
        },
        {
          "output_type": "stream",
          "name": "stderr",
          "text": [
            "100%|██████████| 25/25 [00:06<00:00,  3.88it/s]\n"
          ]
        },
        {
          "output_type": "stream",
          "name": "stdout",
          "text": [
            "val Loss: 0.3111 Acc: 0.8650\n",
            "Epoch 6/100\n",
            "-------------\n"
          ]
        },
        {
          "output_type": "stream",
          "name": "stderr",
          "text": [
            "100%|██████████| 100/100 [00:58<00:00,  1.70it/s]\n"
          ]
        },
        {
          "output_type": "stream",
          "name": "stdout",
          "text": [
            "train Loss: 0.2760 Acc: 0.8878\n"
          ]
        },
        {
          "output_type": "stream",
          "name": "stderr",
          "text": [
            "100%|██████████| 25/25 [00:06<00:00,  3.84it/s]\n"
          ]
        },
        {
          "output_type": "stream",
          "name": "stdout",
          "text": [
            "val Loss: 0.2997 Acc: 0.8638\n",
            "Epoch 7/100\n",
            "-------------\n"
          ]
        },
        {
          "output_type": "stream",
          "name": "stderr",
          "text": [
            "100%|██████████| 100/100 [00:58<00:00,  1.70it/s]\n"
          ]
        },
        {
          "output_type": "stream",
          "name": "stdout",
          "text": [
            "train Loss: 0.2668 Acc: 0.8916\n"
          ]
        },
        {
          "output_type": "stream",
          "name": "stderr",
          "text": [
            "100%|██████████| 25/25 [00:06<00:00,  3.85it/s]\n"
          ]
        },
        {
          "output_type": "stream",
          "name": "stdout",
          "text": [
            "val Loss: 0.2791 Acc: 0.8850\n",
            "Epoch 8/100\n",
            "-------------\n"
          ]
        },
        {
          "output_type": "stream",
          "name": "stderr",
          "text": [
            "100%|██████████| 100/100 [00:59<00:00,  1.69it/s]\n"
          ]
        },
        {
          "output_type": "stream",
          "name": "stdout",
          "text": [
            "train Loss: 0.2241 Acc: 0.9081\n"
          ]
        },
        {
          "output_type": "stream",
          "name": "stderr",
          "text": [
            "100%|██████████| 25/25 [00:06<00:00,  3.84it/s]\n"
          ]
        },
        {
          "output_type": "stream",
          "name": "stdout",
          "text": [
            "val Loss: 0.2744 Acc: 0.8850\n",
            "Epoch 9/100\n",
            "-------------\n"
          ]
        },
        {
          "output_type": "stream",
          "name": "stderr",
          "text": [
            "100%|██████████| 100/100 [00:58<00:00,  1.70it/s]\n"
          ]
        },
        {
          "output_type": "stream",
          "name": "stdout",
          "text": [
            "train Loss: 0.2245 Acc: 0.9119\n"
          ]
        },
        {
          "output_type": "stream",
          "name": "stderr",
          "text": [
            "100%|██████████| 25/25 [00:06<00:00,  3.86it/s]\n"
          ]
        },
        {
          "output_type": "stream",
          "name": "stdout",
          "text": [
            "val Loss: 0.2628 Acc: 0.9012\n",
            "Epoch 10/100\n",
            "-------------\n"
          ]
        },
        {
          "output_type": "stream",
          "name": "stderr",
          "text": [
            "100%|██████████| 100/100 [00:58<00:00,  1.70it/s]\n"
          ]
        },
        {
          "output_type": "stream",
          "name": "stdout",
          "text": [
            "train Loss: 0.2003 Acc: 0.9213\n"
          ]
        },
        {
          "output_type": "stream",
          "name": "stderr",
          "text": [
            "100%|██████████| 25/25 [00:06<00:00,  3.92it/s]\n"
          ]
        },
        {
          "output_type": "stream",
          "name": "stdout",
          "text": [
            "val Loss: 0.2769 Acc: 0.8900\n",
            "Epoch 11/100\n",
            "-------------\n"
          ]
        },
        {
          "output_type": "stream",
          "name": "stderr",
          "text": [
            "100%|██████████| 100/100 [00:58<00:00,  1.70it/s]\n"
          ]
        },
        {
          "output_type": "stream",
          "name": "stdout",
          "text": [
            "train Loss: 0.1870 Acc: 0.9256\n"
          ]
        },
        {
          "output_type": "stream",
          "name": "stderr",
          "text": [
            "100%|██████████| 25/25 [00:06<00:00,  3.70it/s]\n"
          ]
        },
        {
          "output_type": "stream",
          "name": "stdout",
          "text": [
            "val Loss: 0.2685 Acc: 0.8888\n",
            "Epoch 12/100\n",
            "-------------\n"
          ]
        },
        {
          "output_type": "stream",
          "name": "stderr",
          "text": [
            "100%|██████████| 100/100 [00:58<00:00,  1.70it/s]\n"
          ]
        },
        {
          "output_type": "stream",
          "name": "stdout",
          "text": [
            "train Loss: 0.1590 Acc: 0.9363\n"
          ]
        },
        {
          "output_type": "stream",
          "name": "stderr",
          "text": [
            "100%|██████████| 25/25 [00:06<00:00,  3.87it/s]\n"
          ]
        },
        {
          "output_type": "stream",
          "name": "stdout",
          "text": [
            "val Loss: 0.2724 Acc: 0.8925\n",
            "Epoch 13/100\n",
            "-------------\n"
          ]
        },
        {
          "output_type": "stream",
          "name": "stderr",
          "text": [
            "100%|██████████| 100/100 [00:58<00:00,  1.70it/s]\n"
          ]
        },
        {
          "output_type": "stream",
          "name": "stdout",
          "text": [
            "train Loss: 0.1426 Acc: 0.9403\n"
          ]
        },
        {
          "output_type": "stream",
          "name": "stderr",
          "text": [
            "100%|██████████| 25/25 [00:06<00:00,  3.84it/s]\n"
          ]
        },
        {
          "output_type": "stream",
          "name": "stdout",
          "text": [
            "val Loss: 0.2525 Acc: 0.9062\n",
            "Epoch 14/100\n",
            "-------------\n"
          ]
        },
        {
          "output_type": "stream",
          "name": "stderr",
          "text": [
            "100%|██████████| 100/100 [00:58<00:00,  1.70it/s]\n"
          ]
        },
        {
          "output_type": "stream",
          "name": "stdout",
          "text": [
            "train Loss: 0.1544 Acc: 0.9356\n"
          ]
        },
        {
          "output_type": "stream",
          "name": "stderr",
          "text": [
            "100%|██████████| 25/25 [00:06<00:00,  3.83it/s]\n"
          ]
        },
        {
          "output_type": "stream",
          "name": "stdout",
          "text": [
            "val Loss: 0.2834 Acc: 0.8962\n",
            "Epoch 15/100\n",
            "-------------\n"
          ]
        },
        {
          "output_type": "stream",
          "name": "stderr",
          "text": [
            "100%|██████████| 100/100 [00:59<00:00,  1.69it/s]\n"
          ]
        },
        {
          "output_type": "stream",
          "name": "stdout",
          "text": [
            "train Loss: 0.1452 Acc: 0.9425\n"
          ]
        },
        {
          "output_type": "stream",
          "name": "stderr",
          "text": [
            "100%|██████████| 25/25 [00:06<00:00,  3.90it/s]\n"
          ]
        },
        {
          "output_type": "stream",
          "name": "stdout",
          "text": [
            "val Loss: 0.2435 Acc: 0.9062\n",
            "Epoch 16/100\n",
            "-------------\n"
          ]
        },
        {
          "output_type": "stream",
          "name": "stderr",
          "text": [
            "100%|██████████| 100/100 [00:58<00:00,  1.70it/s]\n"
          ]
        },
        {
          "output_type": "stream",
          "name": "stdout",
          "text": [
            "train Loss: 0.1322 Acc: 0.9491\n"
          ]
        },
        {
          "output_type": "stream",
          "name": "stderr",
          "text": [
            "100%|██████████| 25/25 [00:06<00:00,  3.86it/s]\n"
          ]
        },
        {
          "output_type": "stream",
          "name": "stdout",
          "text": [
            "val Loss: 0.2577 Acc: 0.9062\n",
            "Epoch 17/100\n",
            "-------------\n"
          ]
        },
        {
          "output_type": "stream",
          "name": "stderr",
          "text": [
            "100%|██████████| 100/100 [00:59<00:00,  1.69it/s]\n"
          ]
        },
        {
          "output_type": "stream",
          "name": "stdout",
          "text": [
            "train Loss: 0.1195 Acc: 0.9563\n"
          ]
        },
        {
          "output_type": "stream",
          "name": "stderr",
          "text": [
            "100%|██████████| 25/25 [00:06<00:00,  3.88it/s]\n"
          ]
        },
        {
          "output_type": "stream",
          "name": "stdout",
          "text": [
            "val Loss: 0.2595 Acc: 0.9125\n",
            "Epoch 18/100\n",
            "-------------\n"
          ]
        },
        {
          "output_type": "stream",
          "name": "stderr",
          "text": [
            "100%|██████████| 100/100 [00:59<00:00,  1.69it/s]\n"
          ]
        },
        {
          "output_type": "stream",
          "name": "stdout",
          "text": [
            "train Loss: 0.1117 Acc: 0.9566\n"
          ]
        },
        {
          "output_type": "stream",
          "name": "stderr",
          "text": [
            "100%|██████████| 25/25 [00:06<00:00,  3.85it/s]\n"
          ]
        },
        {
          "output_type": "stream",
          "name": "stdout",
          "text": [
            "val Loss: 0.2532 Acc: 0.9100\n",
            "Epoch 19/100\n",
            "-------------\n"
          ]
        },
        {
          "output_type": "stream",
          "name": "stderr",
          "text": [
            "100%|██████████| 100/100 [00:58<00:00,  1.70it/s]\n"
          ]
        },
        {
          "output_type": "stream",
          "name": "stdout",
          "text": [
            "train Loss: 0.1052 Acc: 0.9628\n"
          ]
        },
        {
          "output_type": "stream",
          "name": "stderr",
          "text": [
            "100%|██████████| 25/25 [00:06<00:00,  3.82it/s]\n"
          ]
        },
        {
          "output_type": "stream",
          "name": "stdout",
          "text": [
            "val Loss: 0.2588 Acc: 0.9113\n",
            "Epoch 20/100\n",
            "-------------\n"
          ]
        },
        {
          "output_type": "stream",
          "name": "stderr",
          "text": [
            "100%|██████████| 100/100 [00:58<00:00,  1.70it/s]\n"
          ]
        },
        {
          "output_type": "stream",
          "name": "stdout",
          "text": [
            "train Loss: 0.0863 Acc: 0.9681\n"
          ]
        },
        {
          "output_type": "stream",
          "name": "stderr",
          "text": [
            "100%|██████████| 25/25 [00:06<00:00,  3.84it/s]\n"
          ]
        },
        {
          "output_type": "stream",
          "name": "stdout",
          "text": [
            "val Loss: 0.2625 Acc: 0.9062\n",
            "Epoch 21/100\n",
            "-------------\n"
          ]
        },
        {
          "output_type": "stream",
          "name": "stderr",
          "text": [
            "100%|██████████| 100/100 [00:58<00:00,  1.70it/s]\n"
          ]
        },
        {
          "output_type": "stream",
          "name": "stdout",
          "text": [
            "train Loss: 0.0925 Acc: 0.9672\n"
          ]
        },
        {
          "output_type": "stream",
          "name": "stderr",
          "text": [
            "100%|██████████| 25/25 [00:06<00:00,  3.86it/s]\n"
          ]
        },
        {
          "output_type": "stream",
          "name": "stdout",
          "text": [
            "val Loss: 0.2514 Acc: 0.9150\n",
            "Epoch 22/100\n",
            "-------------\n"
          ]
        },
        {
          "output_type": "stream",
          "name": "stderr",
          "text": [
            "100%|██████████| 100/100 [00:59<00:00,  1.69it/s]\n"
          ]
        },
        {
          "output_type": "stream",
          "name": "stdout",
          "text": [
            "train Loss: 0.0720 Acc: 0.9750\n"
          ]
        },
        {
          "output_type": "stream",
          "name": "stderr",
          "text": [
            "100%|██████████| 25/25 [00:06<00:00,  3.88it/s]\n"
          ]
        },
        {
          "output_type": "stream",
          "name": "stdout",
          "text": [
            "val Loss: 0.2684 Acc: 0.9138\n",
            "Epoch 23/100\n",
            "-------------\n"
          ]
        },
        {
          "output_type": "stream",
          "name": "stderr",
          "text": [
            "100%|██████████| 100/100 [00:58<00:00,  1.70it/s]\n"
          ]
        },
        {
          "output_type": "stream",
          "name": "stdout",
          "text": [
            "train Loss: 0.0791 Acc: 0.9688\n"
          ]
        },
        {
          "output_type": "stream",
          "name": "stderr",
          "text": [
            "100%|██████████| 25/25 [00:06<00:00,  3.88it/s]\n"
          ]
        },
        {
          "output_type": "stream",
          "name": "stdout",
          "text": [
            "val Loss: 0.2680 Acc: 0.9062\n",
            "Epoch 24/100\n",
            "-------------\n"
          ]
        },
        {
          "output_type": "stream",
          "name": "stderr",
          "text": [
            "100%|██████████| 100/100 [00:58<00:00,  1.70it/s]\n"
          ]
        },
        {
          "output_type": "stream",
          "name": "stdout",
          "text": [
            "train Loss: 0.0628 Acc: 0.9769\n"
          ]
        },
        {
          "output_type": "stream",
          "name": "stderr",
          "text": [
            "100%|██████████| 25/25 [00:06<00:00,  3.89it/s]\n"
          ]
        },
        {
          "output_type": "stream",
          "name": "stdout",
          "text": [
            "val Loss: 0.2661 Acc: 0.9188\n",
            "Epoch 25/100\n",
            "-------------\n"
          ]
        },
        {
          "output_type": "stream",
          "name": "stderr",
          "text": [
            "100%|██████████| 100/100 [00:59<00:00,  1.69it/s]\n"
          ]
        },
        {
          "output_type": "stream",
          "name": "stdout",
          "text": [
            "train Loss: 0.0652 Acc: 0.9734\n"
          ]
        },
        {
          "output_type": "stream",
          "name": "stderr",
          "text": [
            "100%|██████████| 25/25 [00:06<00:00,  3.80it/s]\n"
          ]
        },
        {
          "output_type": "stream",
          "name": "stdout",
          "text": [
            "val Loss: 0.2600 Acc: 0.9138\n",
            "Epoch 26/100\n",
            "-------------\n"
          ]
        },
        {
          "output_type": "stream",
          "name": "stderr",
          "text": [
            "100%|██████████| 100/100 [00:58<00:00,  1.70it/s]\n"
          ]
        },
        {
          "output_type": "stream",
          "name": "stdout",
          "text": [
            "train Loss: 0.0613 Acc: 0.9759\n"
          ]
        },
        {
          "output_type": "stream",
          "name": "stderr",
          "text": [
            "100%|██████████| 25/25 [00:06<00:00,  3.87it/s]\n"
          ]
        },
        {
          "output_type": "stream",
          "name": "stdout",
          "text": [
            "val Loss: 0.2819 Acc: 0.9113\n",
            "Epoch 27/100\n",
            "-------------\n"
          ]
        },
        {
          "output_type": "stream",
          "name": "stderr",
          "text": [
            "100%|██████████| 100/100 [00:58<00:00,  1.70it/s]\n"
          ]
        },
        {
          "output_type": "stream",
          "name": "stdout",
          "text": [
            "train Loss: 0.0643 Acc: 0.9747\n"
          ]
        },
        {
          "output_type": "stream",
          "name": "stderr",
          "text": [
            "100%|██████████| 25/25 [00:06<00:00,  3.87it/s]\n"
          ]
        },
        {
          "output_type": "stream",
          "name": "stdout",
          "text": [
            "val Loss: 0.2703 Acc: 0.9163\n",
            "Epoch 28/100\n",
            "-------------\n"
          ]
        },
        {
          "output_type": "stream",
          "name": "stderr",
          "text": [
            "100%|██████████| 100/100 [00:58<00:00,  1.70it/s]\n"
          ]
        },
        {
          "output_type": "stream",
          "name": "stdout",
          "text": [
            "train Loss: 0.0502 Acc: 0.9788\n"
          ]
        },
        {
          "output_type": "stream",
          "name": "stderr",
          "text": [
            "100%|██████████| 25/25 [00:06<00:00,  3.87it/s]\n"
          ]
        },
        {
          "output_type": "stream",
          "name": "stdout",
          "text": [
            "val Loss: 0.2609 Acc: 0.9225\n",
            "Epoch 29/100\n",
            "-------------\n"
          ]
        },
        {
          "output_type": "stream",
          "name": "stderr",
          "text": [
            "100%|██████████| 100/100 [00:59<00:00,  1.69it/s]\n"
          ]
        },
        {
          "output_type": "stream",
          "name": "stdout",
          "text": [
            "train Loss: 0.0503 Acc: 0.9778\n"
          ]
        },
        {
          "output_type": "stream",
          "name": "stderr",
          "text": [
            "100%|██████████| 25/25 [00:06<00:00,  3.80it/s]\n"
          ]
        },
        {
          "output_type": "stream",
          "name": "stdout",
          "text": [
            "val Loss: 0.2557 Acc: 0.9275\n",
            "Epoch 30/100\n",
            "-------------\n"
          ]
        },
        {
          "output_type": "stream",
          "name": "stderr",
          "text": [
            "100%|██████████| 100/100 [00:59<00:00,  1.69it/s]\n"
          ]
        },
        {
          "output_type": "stream",
          "name": "stdout",
          "text": [
            "train Loss: 0.0472 Acc: 0.9813\n"
          ]
        },
        {
          "output_type": "stream",
          "name": "stderr",
          "text": [
            "100%|██████████| 25/25 [00:06<00:00,  3.86it/s]\n"
          ]
        },
        {
          "output_type": "stream",
          "name": "stdout",
          "text": [
            "val Loss: 0.2650 Acc: 0.9125\n",
            "Epoch 31/100\n",
            "-------------\n"
          ]
        },
        {
          "output_type": "stream",
          "name": "stderr",
          "text": [
            "100%|██████████| 100/100 [00:59<00:00,  1.69it/s]\n"
          ]
        },
        {
          "output_type": "stream",
          "name": "stdout",
          "text": [
            "train Loss: 0.0456 Acc: 0.9831\n"
          ]
        },
        {
          "output_type": "stream",
          "name": "stderr",
          "text": [
            "100%|██████████| 25/25 [00:06<00:00,  3.84it/s]\n"
          ]
        },
        {
          "output_type": "stream",
          "name": "stdout",
          "text": [
            "val Loss: 0.2867 Acc: 0.9250\n",
            "Epoch 32/100\n",
            "-------------\n"
          ]
        },
        {
          "output_type": "stream",
          "name": "stderr",
          "text": [
            "100%|██████████| 100/100 [00:59<00:00,  1.69it/s]\n"
          ]
        },
        {
          "output_type": "stream",
          "name": "stdout",
          "text": [
            "train Loss: 0.0503 Acc: 0.9819\n"
          ]
        },
        {
          "output_type": "stream",
          "name": "stderr",
          "text": [
            "100%|██████████| 25/25 [00:06<00:00,  3.79it/s]\n"
          ]
        },
        {
          "output_type": "stream",
          "name": "stdout",
          "text": [
            "val Loss: 0.2762 Acc: 0.9188\n",
            "Epoch 33/100\n",
            "-------------\n"
          ]
        },
        {
          "output_type": "stream",
          "name": "stderr",
          "text": [
            "100%|██████████| 100/100 [00:59<00:00,  1.69it/s]\n"
          ]
        },
        {
          "output_type": "stream",
          "name": "stdout",
          "text": [
            "train Loss: 0.0468 Acc: 0.9841\n"
          ]
        },
        {
          "output_type": "stream",
          "name": "stderr",
          "text": [
            "100%|██████████| 25/25 [00:06<00:00,  3.85it/s]\n"
          ]
        },
        {
          "output_type": "stream",
          "name": "stdout",
          "text": [
            "val Loss: 0.3162 Acc: 0.9100\n",
            "Epoch 34/100\n",
            "-------------\n"
          ]
        },
        {
          "output_type": "stream",
          "name": "stderr",
          "text": [
            "100%|██████████| 100/100 [00:59<00:00,  1.69it/s]\n"
          ]
        },
        {
          "output_type": "stream",
          "name": "stdout",
          "text": [
            "train Loss: 0.0560 Acc: 0.9791\n"
          ]
        },
        {
          "output_type": "stream",
          "name": "stderr",
          "text": [
            "100%|██████████| 25/25 [00:06<00:00,  3.85it/s]\n"
          ]
        },
        {
          "output_type": "stream",
          "name": "stdout",
          "text": [
            "val Loss: 0.3734 Acc: 0.9025\n",
            "Epoch 35/100\n",
            "-------------\n"
          ]
        },
        {
          "output_type": "stream",
          "name": "stderr",
          "text": [
            "100%|██████████| 100/100 [00:59<00:00,  1.69it/s]\n"
          ]
        },
        {
          "output_type": "stream",
          "name": "stdout",
          "text": [
            "train Loss: 0.0514 Acc: 0.9809\n"
          ]
        },
        {
          "output_type": "stream",
          "name": "stderr",
          "text": [
            "100%|██████████| 25/25 [00:06<00:00,  3.82it/s]\n"
          ]
        },
        {
          "output_type": "stream",
          "name": "stdout",
          "text": [
            "val Loss: 0.2771 Acc: 0.9200\n",
            "Epoch 36/100\n",
            "-------------\n"
          ]
        },
        {
          "output_type": "stream",
          "name": "stderr",
          "text": [
            "100%|██████████| 100/100 [00:59<00:00,  1.69it/s]\n"
          ]
        },
        {
          "output_type": "stream",
          "name": "stdout",
          "text": [
            "train Loss: 0.0405 Acc: 0.9834\n"
          ]
        },
        {
          "output_type": "stream",
          "name": "stderr",
          "text": [
            "100%|██████████| 25/25 [00:06<00:00,  3.82it/s]\n"
          ]
        },
        {
          "output_type": "stream",
          "name": "stdout",
          "text": [
            "val Loss: 0.2629 Acc: 0.9175\n",
            "Epoch 37/100\n",
            "-------------\n"
          ]
        },
        {
          "output_type": "stream",
          "name": "stderr",
          "text": [
            "100%|██████████| 100/100 [00:59<00:00,  1.69it/s]\n"
          ]
        },
        {
          "output_type": "stream",
          "name": "stdout",
          "text": [
            "train Loss: 0.0334 Acc: 0.9891\n"
          ]
        },
        {
          "output_type": "stream",
          "name": "stderr",
          "text": [
            "100%|██████████| 25/25 [00:06<00:00,  3.83it/s]\n"
          ]
        },
        {
          "output_type": "stream",
          "name": "stdout",
          "text": [
            "val Loss: 0.2830 Acc: 0.9163\n",
            "Epoch 38/100\n",
            "-------------\n"
          ]
        },
        {
          "output_type": "stream",
          "name": "stderr",
          "text": [
            "100%|██████████| 100/100 [00:59<00:00,  1.69it/s]\n"
          ]
        },
        {
          "output_type": "stream",
          "name": "stdout",
          "text": [
            "train Loss: 0.0404 Acc: 0.9828\n"
          ]
        },
        {
          "output_type": "stream",
          "name": "stderr",
          "text": [
            "100%|██████████| 25/25 [00:06<00:00,  3.82it/s]\n"
          ]
        },
        {
          "output_type": "stream",
          "name": "stdout",
          "text": [
            "val Loss: 0.2792 Acc: 0.9200\n",
            "Epoch 39/100\n",
            "-------------\n"
          ]
        },
        {
          "output_type": "stream",
          "name": "stderr",
          "text": [
            "100%|██████████| 100/100 [00:59<00:00,  1.69it/s]\n"
          ]
        },
        {
          "output_type": "stream",
          "name": "stdout",
          "text": [
            "train Loss: 0.0354 Acc: 0.9884\n"
          ]
        },
        {
          "output_type": "stream",
          "name": "stderr",
          "text": [
            "100%|██████████| 25/25 [00:06<00:00,  3.84it/s]\n"
          ]
        },
        {
          "output_type": "stream",
          "name": "stdout",
          "text": [
            "val Loss: 0.2872 Acc: 0.9188\n",
            "Epoch 40/100\n",
            "-------------\n"
          ]
        },
        {
          "output_type": "stream",
          "name": "stderr",
          "text": [
            "100%|██████████| 100/100 [00:59<00:00,  1.69it/s]\n"
          ]
        },
        {
          "output_type": "stream",
          "name": "stdout",
          "text": [
            "train Loss: 0.0279 Acc: 0.9906\n"
          ]
        },
        {
          "output_type": "stream",
          "name": "stderr",
          "text": [
            "100%|██████████| 25/25 [00:06<00:00,  3.81it/s]\n"
          ]
        },
        {
          "output_type": "stream",
          "name": "stdout",
          "text": [
            "val Loss: 0.3056 Acc: 0.9088\n",
            "Epoch 41/100\n",
            "-------------\n"
          ]
        },
        {
          "output_type": "stream",
          "name": "stderr",
          "text": [
            "100%|██████████| 100/100 [00:59<00:00,  1.69it/s]\n"
          ]
        },
        {
          "output_type": "stream",
          "name": "stdout",
          "text": [
            "train Loss: 0.0291 Acc: 0.9897\n"
          ]
        },
        {
          "output_type": "stream",
          "name": "stderr",
          "text": [
            "100%|██████████| 25/25 [00:06<00:00,  3.88it/s]\n"
          ]
        },
        {
          "output_type": "stream",
          "name": "stdout",
          "text": [
            "val Loss: 0.2858 Acc: 0.9113\n",
            "Epoch 42/100\n",
            "-------------\n"
          ]
        },
        {
          "output_type": "stream",
          "name": "stderr",
          "text": [
            "100%|██████████| 100/100 [00:58<00:00,  1.70it/s]\n"
          ]
        },
        {
          "output_type": "stream",
          "name": "stdout",
          "text": [
            "train Loss: 0.0257 Acc: 0.9897\n"
          ]
        },
        {
          "output_type": "stream",
          "name": "stderr",
          "text": [
            "100%|██████████| 25/25 [00:06<00:00,  3.83it/s]\n"
          ]
        },
        {
          "output_type": "stream",
          "name": "stdout",
          "text": [
            "val Loss: 0.3097 Acc: 0.9188\n",
            "Epoch 43/100\n",
            "-------------\n"
          ]
        },
        {
          "output_type": "stream",
          "name": "stderr",
          "text": [
            "100%|██████████| 100/100 [00:59<00:00,  1.69it/s]\n"
          ]
        },
        {
          "output_type": "stream",
          "name": "stdout",
          "text": [
            "train Loss: 0.0241 Acc: 0.9928\n"
          ]
        },
        {
          "output_type": "stream",
          "name": "stderr",
          "text": [
            "100%|██████████| 25/25 [00:06<00:00,  3.86it/s]\n"
          ]
        },
        {
          "output_type": "stream",
          "name": "stdout",
          "text": [
            "val Loss: 0.2921 Acc: 0.9225\n",
            "Epoch 44/100\n",
            "-------------\n"
          ]
        },
        {
          "output_type": "stream",
          "name": "stderr",
          "text": [
            "100%|██████████| 100/100 [00:58<00:00,  1.70it/s]\n"
          ]
        },
        {
          "output_type": "stream",
          "name": "stdout",
          "text": [
            "train Loss: 0.0228 Acc: 0.9909\n"
          ]
        },
        {
          "output_type": "stream",
          "name": "stderr",
          "text": [
            "100%|██████████| 25/25 [00:06<00:00,  3.85it/s]\n"
          ]
        },
        {
          "output_type": "stream",
          "name": "stdout",
          "text": [
            "val Loss: 0.3124 Acc: 0.9200\n",
            "Epoch 45/100\n",
            "-------------\n"
          ]
        },
        {
          "output_type": "stream",
          "name": "stderr",
          "text": [
            "100%|██████████| 100/100 [00:58<00:00,  1.70it/s]\n"
          ]
        },
        {
          "output_type": "stream",
          "name": "stdout",
          "text": [
            "train Loss: 0.0352 Acc: 0.9863\n"
          ]
        },
        {
          "output_type": "stream",
          "name": "stderr",
          "text": [
            "100%|██████████| 25/25 [00:06<00:00,  3.84it/s]\n"
          ]
        },
        {
          "output_type": "stream",
          "name": "stdout",
          "text": [
            "val Loss: 0.3196 Acc: 0.9175\n",
            "Epoch 46/100\n",
            "-------------\n"
          ]
        },
        {
          "output_type": "stream",
          "name": "stderr",
          "text": [
            "100%|██████████| 100/100 [00:58<00:00,  1.70it/s]\n"
          ]
        },
        {
          "output_type": "stream",
          "name": "stdout",
          "text": [
            "train Loss: 0.0321 Acc: 0.9900\n"
          ]
        },
        {
          "output_type": "stream",
          "name": "stderr",
          "text": [
            "100%|██████████| 25/25 [00:06<00:00,  3.86it/s]\n"
          ]
        },
        {
          "output_type": "stream",
          "name": "stdout",
          "text": [
            "val Loss: 0.2910 Acc: 0.9200\n",
            "Epoch 47/100\n",
            "-------------\n"
          ]
        },
        {
          "output_type": "stream",
          "name": "stderr",
          "text": [
            "100%|██████████| 100/100 [00:59<00:00,  1.69it/s]\n"
          ]
        },
        {
          "output_type": "stream",
          "name": "stdout",
          "text": [
            "train Loss: 0.0292 Acc: 0.9891\n"
          ]
        },
        {
          "output_type": "stream",
          "name": "stderr",
          "text": [
            "100%|██████████| 25/25 [00:06<00:00,  3.88it/s]\n"
          ]
        },
        {
          "output_type": "stream",
          "name": "stdout",
          "text": [
            "val Loss: 0.3414 Acc: 0.9150\n",
            "Epoch 48/100\n",
            "-------------\n"
          ]
        },
        {
          "output_type": "stream",
          "name": "stderr",
          "text": [
            "100%|██████████| 100/100 [00:58<00:00,  1.70it/s]\n"
          ]
        },
        {
          "output_type": "stream",
          "name": "stdout",
          "text": [
            "train Loss: 0.0179 Acc: 0.9947\n"
          ]
        },
        {
          "output_type": "stream",
          "name": "stderr",
          "text": [
            "100%|██████████| 25/25 [00:06<00:00,  3.85it/s]\n"
          ]
        },
        {
          "output_type": "stream",
          "name": "stdout",
          "text": [
            "val Loss: 0.3176 Acc: 0.9200\n",
            "Epoch 49/100\n",
            "-------------\n"
          ]
        },
        {
          "output_type": "stream",
          "name": "stderr",
          "text": [
            "100%|██████████| 100/100 [00:58<00:00,  1.70it/s]\n"
          ]
        },
        {
          "output_type": "stream",
          "name": "stdout",
          "text": [
            "train Loss: 0.0268 Acc: 0.9922\n"
          ]
        },
        {
          "output_type": "stream",
          "name": "stderr",
          "text": [
            "100%|██████████| 25/25 [00:06<00:00,  3.85it/s]\n"
          ]
        },
        {
          "output_type": "stream",
          "name": "stdout",
          "text": [
            "val Loss: 0.3072 Acc: 0.9213\n",
            "Epoch 50/100\n",
            "-------------\n"
          ]
        },
        {
          "output_type": "stream",
          "name": "stderr",
          "text": [
            "100%|██████████| 100/100 [00:59<00:00,  1.69it/s]\n"
          ]
        },
        {
          "output_type": "stream",
          "name": "stdout",
          "text": [
            "train Loss: 0.0193 Acc: 0.9938\n"
          ]
        },
        {
          "output_type": "stream",
          "name": "stderr",
          "text": [
            "100%|██████████| 25/25 [00:06<00:00,  3.84it/s]\n"
          ]
        },
        {
          "output_type": "stream",
          "name": "stdout",
          "text": [
            "val Loss: 0.3084 Acc: 0.9250\n",
            "Epoch 51/100\n",
            "-------------\n"
          ]
        },
        {
          "output_type": "stream",
          "name": "stderr",
          "text": [
            "100%|██████████| 100/100 [00:58<00:00,  1.70it/s]\n"
          ]
        },
        {
          "output_type": "stream",
          "name": "stdout",
          "text": [
            "train Loss: 0.0232 Acc: 0.9919\n"
          ]
        },
        {
          "output_type": "stream",
          "name": "stderr",
          "text": [
            "100%|██████████| 25/25 [00:06<00:00,  3.83it/s]\n"
          ]
        },
        {
          "output_type": "stream",
          "name": "stdout",
          "text": [
            "val Loss: 0.3155 Acc: 0.9138\n",
            "Epoch 52/100\n",
            "-------------\n"
          ]
        },
        {
          "output_type": "stream",
          "name": "stderr",
          "text": [
            "100%|██████████| 100/100 [00:58<00:00,  1.70it/s]\n"
          ]
        },
        {
          "output_type": "stream",
          "name": "stdout",
          "text": [
            "train Loss: 0.0207 Acc: 0.9919\n"
          ]
        },
        {
          "output_type": "stream",
          "name": "stderr",
          "text": [
            "100%|██████████| 25/25 [00:06<00:00,  3.86it/s]\n"
          ]
        },
        {
          "output_type": "stream",
          "name": "stdout",
          "text": [
            "val Loss: 0.3188 Acc: 0.9188\n",
            "Epoch 53/100\n",
            "-------------\n"
          ]
        },
        {
          "output_type": "stream",
          "name": "stderr",
          "text": [
            "100%|██████████| 100/100 [00:58<00:00,  1.70it/s]\n"
          ]
        },
        {
          "output_type": "stream",
          "name": "stdout",
          "text": [
            "train Loss: 0.0258 Acc: 0.9891\n"
          ]
        },
        {
          "output_type": "stream",
          "name": "stderr",
          "text": [
            "100%|██████████| 25/25 [00:06<00:00,  3.86it/s]\n"
          ]
        },
        {
          "output_type": "stream",
          "name": "stdout",
          "text": [
            "val Loss: 0.3114 Acc: 0.9263\n",
            "Epoch 54/100\n",
            "-------------\n"
          ]
        },
        {
          "output_type": "stream",
          "name": "stderr",
          "text": [
            "100%|██████████| 100/100 [00:59<00:00,  1.69it/s]\n"
          ]
        },
        {
          "output_type": "stream",
          "name": "stdout",
          "text": [
            "train Loss: 0.0238 Acc: 0.9913\n"
          ]
        },
        {
          "output_type": "stream",
          "name": "stderr",
          "text": [
            "100%|██████████| 25/25 [00:06<00:00,  3.81it/s]\n"
          ]
        },
        {
          "output_type": "stream",
          "name": "stdout",
          "text": [
            "val Loss: 0.2812 Acc: 0.9250\n",
            "Epoch 55/100\n",
            "-------------\n"
          ]
        },
        {
          "output_type": "stream",
          "name": "stderr",
          "text": [
            "100%|██████████| 100/100 [00:58<00:00,  1.70it/s]\n"
          ]
        },
        {
          "output_type": "stream",
          "name": "stdout",
          "text": [
            "train Loss: 0.0244 Acc: 0.9916\n"
          ]
        },
        {
          "output_type": "stream",
          "name": "stderr",
          "text": [
            "100%|██████████| 25/25 [00:06<00:00,  3.83it/s]\n"
          ]
        },
        {
          "output_type": "stream",
          "name": "stdout",
          "text": [
            "val Loss: 0.3343 Acc: 0.9175\n",
            "Epoch 56/100\n",
            "-------------\n"
          ]
        },
        {
          "output_type": "stream",
          "name": "stderr",
          "text": [
            "100%|██████████| 100/100 [00:59<00:00,  1.69it/s]\n"
          ]
        },
        {
          "output_type": "stream",
          "name": "stdout",
          "text": [
            "train Loss: 0.0233 Acc: 0.9934\n"
          ]
        },
        {
          "output_type": "stream",
          "name": "stderr",
          "text": [
            "100%|██████████| 25/25 [00:06<00:00,  3.86it/s]\n"
          ]
        },
        {
          "output_type": "stream",
          "name": "stdout",
          "text": [
            "val Loss: 0.3153 Acc: 0.9250\n",
            "Epoch 57/100\n",
            "-------------\n"
          ]
        },
        {
          "output_type": "stream",
          "name": "stderr",
          "text": [
            "100%|██████████| 100/100 [00:59<00:00,  1.69it/s]\n"
          ]
        },
        {
          "output_type": "stream",
          "name": "stdout",
          "text": [
            "train Loss: 0.0192 Acc: 0.9925\n"
          ]
        },
        {
          "output_type": "stream",
          "name": "stderr",
          "text": [
            "100%|██████████| 25/25 [00:06<00:00,  3.83it/s]\n"
          ]
        },
        {
          "output_type": "stream",
          "name": "stdout",
          "text": [
            "val Loss: 0.3271 Acc: 0.9250\n",
            "Epoch 58/100\n",
            "-------------\n"
          ]
        },
        {
          "output_type": "stream",
          "name": "stderr",
          "text": [
            "100%|██████████| 100/100 [00:58<00:00,  1.70it/s]\n"
          ]
        },
        {
          "output_type": "stream",
          "name": "stdout",
          "text": [
            "train Loss: 0.0184 Acc: 0.9934\n"
          ]
        },
        {
          "output_type": "stream",
          "name": "stderr",
          "text": [
            "100%|██████████| 25/25 [00:06<00:00,  3.86it/s]\n"
          ]
        },
        {
          "output_type": "stream",
          "name": "stdout",
          "text": [
            "val Loss: 0.2974 Acc: 0.9287\n",
            "Epoch 59/100\n",
            "-------------\n"
          ]
        },
        {
          "output_type": "stream",
          "name": "stderr",
          "text": [
            "100%|██████████| 100/100 [00:59<00:00,  1.69it/s]\n"
          ]
        },
        {
          "output_type": "stream",
          "name": "stdout",
          "text": [
            "train Loss: 0.0196 Acc: 0.9928\n"
          ]
        },
        {
          "output_type": "stream",
          "name": "stderr",
          "text": [
            "100%|██████████| 25/25 [00:06<00:00,  3.84it/s]\n"
          ]
        },
        {
          "output_type": "stream",
          "name": "stdout",
          "text": [
            "val Loss: 0.3499 Acc: 0.9213\n",
            "Epoch 60/100\n",
            "-------------\n"
          ]
        },
        {
          "output_type": "stream",
          "name": "stderr",
          "text": [
            "100%|██████████| 100/100 [00:59<00:00,  1.69it/s]\n"
          ]
        },
        {
          "output_type": "stream",
          "name": "stdout",
          "text": [
            "train Loss: 0.0193 Acc: 0.9941\n"
          ]
        },
        {
          "output_type": "stream",
          "name": "stderr",
          "text": [
            "100%|██████████| 25/25 [00:06<00:00,  3.85it/s]\n"
          ]
        },
        {
          "output_type": "stream",
          "name": "stdout",
          "text": [
            "val Loss: 0.2892 Acc: 0.9275\n",
            "Epoch 61/100\n",
            "-------------\n"
          ]
        },
        {
          "output_type": "stream",
          "name": "stderr",
          "text": [
            "100%|██████████| 100/100 [00:59<00:00,  1.69it/s]\n"
          ]
        },
        {
          "output_type": "stream",
          "name": "stdout",
          "text": [
            "train Loss: 0.0175 Acc: 0.9934\n"
          ]
        },
        {
          "output_type": "stream",
          "name": "stderr",
          "text": [
            "100%|██████████| 25/25 [00:06<00:00,  3.87it/s]\n"
          ]
        },
        {
          "output_type": "stream",
          "name": "stdout",
          "text": [
            "val Loss: 0.3125 Acc: 0.9250\n",
            "Epoch 62/100\n",
            "-------------\n"
          ]
        },
        {
          "output_type": "stream",
          "name": "stderr",
          "text": [
            "100%|██████████| 100/100 [00:59<00:00,  1.69it/s]\n"
          ]
        },
        {
          "output_type": "stream",
          "name": "stdout",
          "text": [
            "train Loss: 0.0158 Acc: 0.9956\n"
          ]
        },
        {
          "output_type": "stream",
          "name": "stderr",
          "text": [
            "100%|██████████| 25/25 [00:06<00:00,  3.87it/s]\n"
          ]
        },
        {
          "output_type": "stream",
          "name": "stdout",
          "text": [
            "val Loss: 0.3215 Acc: 0.9238\n",
            "Epoch 63/100\n",
            "-------------\n"
          ]
        },
        {
          "output_type": "stream",
          "name": "stderr",
          "text": [
            "100%|██████████| 100/100 [00:58<00:00,  1.69it/s]\n"
          ]
        },
        {
          "output_type": "stream",
          "name": "stdout",
          "text": [
            "train Loss: 0.0120 Acc: 0.9962\n"
          ]
        },
        {
          "output_type": "stream",
          "name": "stderr",
          "text": [
            "100%|██████████| 25/25 [00:06<00:00,  3.83it/s]\n"
          ]
        },
        {
          "output_type": "stream",
          "name": "stdout",
          "text": [
            "val Loss: 0.3248 Acc: 0.9250\n",
            "Epoch 64/100\n",
            "-------------\n"
          ]
        },
        {
          "output_type": "stream",
          "name": "stderr",
          "text": [
            "100%|██████████| 100/100 [00:59<00:00,  1.69it/s]\n"
          ]
        },
        {
          "output_type": "stream",
          "name": "stdout",
          "text": [
            "train Loss: 0.0168 Acc: 0.9947\n"
          ]
        },
        {
          "output_type": "stream",
          "name": "stderr",
          "text": [
            "100%|██████████| 25/25 [00:06<00:00,  3.84it/s]\n"
          ]
        },
        {
          "output_type": "stream",
          "name": "stdout",
          "text": [
            "val Loss: 0.3191 Acc: 0.9238\n",
            "Epoch 65/100\n",
            "-------------\n"
          ]
        },
        {
          "output_type": "stream",
          "name": "stderr",
          "text": [
            "100%|██████████| 100/100 [00:59<00:00,  1.69it/s]\n"
          ]
        },
        {
          "output_type": "stream",
          "name": "stdout",
          "text": [
            "train Loss: 0.0171 Acc: 0.9947\n"
          ]
        },
        {
          "output_type": "stream",
          "name": "stderr",
          "text": [
            "100%|██████████| 25/25 [00:06<00:00,  3.84it/s]\n"
          ]
        },
        {
          "output_type": "stream",
          "name": "stdout",
          "text": [
            "val Loss: 0.3027 Acc: 0.9350\n",
            "Epoch 66/100\n",
            "-------------\n"
          ]
        },
        {
          "output_type": "stream",
          "name": "stderr",
          "text": [
            "100%|██████████| 100/100 [00:59<00:00,  1.69it/s]\n"
          ]
        },
        {
          "output_type": "stream",
          "name": "stdout",
          "text": [
            "train Loss: 0.0122 Acc: 0.9953\n"
          ]
        },
        {
          "output_type": "stream",
          "name": "stderr",
          "text": [
            "100%|██████████| 25/25 [00:06<00:00,  3.85it/s]\n"
          ]
        },
        {
          "output_type": "stream",
          "name": "stdout",
          "text": [
            "val Loss: 0.3131 Acc: 0.9350\n",
            "Epoch 67/100\n",
            "-------------\n"
          ]
        },
        {
          "output_type": "stream",
          "name": "stderr",
          "text": [
            "100%|██████████| 100/100 [00:58<00:00,  1.70it/s]\n"
          ]
        },
        {
          "output_type": "stream",
          "name": "stdout",
          "text": [
            "train Loss: 0.0194 Acc: 0.9922\n"
          ]
        },
        {
          "output_type": "stream",
          "name": "stderr",
          "text": [
            "100%|██████████| 25/25 [00:06<00:00,  3.87it/s]\n"
          ]
        },
        {
          "output_type": "stream",
          "name": "stdout",
          "text": [
            "val Loss: 0.3481 Acc: 0.9213\n",
            "Epoch 68/100\n",
            "-------------\n"
          ]
        },
        {
          "output_type": "stream",
          "name": "stderr",
          "text": [
            "100%|██████████| 100/100 [00:59<00:00,  1.69it/s]\n"
          ]
        },
        {
          "output_type": "stream",
          "name": "stdout",
          "text": [
            "train Loss: 0.0101 Acc: 0.9969\n"
          ]
        },
        {
          "output_type": "stream",
          "name": "stderr",
          "text": [
            "100%|██████████| 25/25 [00:06<00:00,  3.87it/s]\n"
          ]
        },
        {
          "output_type": "stream",
          "name": "stdout",
          "text": [
            "val Loss: 0.3439 Acc: 0.9287\n",
            "Epoch 69/100\n",
            "-------------\n"
          ]
        },
        {
          "output_type": "stream",
          "name": "stderr",
          "text": [
            "100%|██████████| 100/100 [00:58<00:00,  1.70it/s]\n"
          ]
        },
        {
          "output_type": "stream",
          "name": "stdout",
          "text": [
            "train Loss: 0.0103 Acc: 0.9959\n"
          ]
        },
        {
          "output_type": "stream",
          "name": "stderr",
          "text": [
            "100%|██████████| 25/25 [00:06<00:00,  3.88it/s]\n"
          ]
        },
        {
          "output_type": "stream",
          "name": "stdout",
          "text": [
            "val Loss: 0.3777 Acc: 0.9275\n",
            "Epoch 70/100\n",
            "-------------\n"
          ]
        },
        {
          "output_type": "stream",
          "name": "stderr",
          "text": [
            "100%|██████████| 100/100 [00:58<00:00,  1.70it/s]\n"
          ]
        },
        {
          "output_type": "stream",
          "name": "stdout",
          "text": [
            "train Loss: 0.0089 Acc: 0.9978\n"
          ]
        },
        {
          "output_type": "stream",
          "name": "stderr",
          "text": [
            "100%|██████████| 25/25 [00:06<00:00,  3.84it/s]\n"
          ]
        },
        {
          "output_type": "stream",
          "name": "stdout",
          "text": [
            "val Loss: 0.3483 Acc: 0.9263\n",
            "Epoch 71/100\n",
            "-------------\n"
          ]
        },
        {
          "output_type": "stream",
          "name": "stderr",
          "text": [
            "100%|██████████| 100/100 [00:58<00:00,  1.70it/s]\n"
          ]
        },
        {
          "output_type": "stream",
          "name": "stdout",
          "text": [
            "train Loss: 0.0062 Acc: 0.9988\n"
          ]
        },
        {
          "output_type": "stream",
          "name": "stderr",
          "text": [
            "100%|██████████| 25/25 [00:06<00:00,  3.87it/s]\n"
          ]
        },
        {
          "output_type": "stream",
          "name": "stdout",
          "text": [
            "val Loss: 0.3661 Acc: 0.9325\n",
            "Epoch 72/100\n",
            "-------------\n"
          ]
        },
        {
          "output_type": "stream",
          "name": "stderr",
          "text": [
            "100%|██████████| 100/100 [00:58<00:00,  1.70it/s]\n"
          ]
        },
        {
          "output_type": "stream",
          "name": "stdout",
          "text": [
            "train Loss: 0.0105 Acc: 0.9966\n"
          ]
        },
        {
          "output_type": "stream",
          "name": "stderr",
          "text": [
            "100%|██████████| 25/25 [00:06<00:00,  3.89it/s]\n"
          ]
        },
        {
          "output_type": "stream",
          "name": "stdout",
          "text": [
            "val Loss: 0.3622 Acc: 0.9313\n",
            "Epoch 73/100\n",
            "-------------\n"
          ]
        },
        {
          "output_type": "stream",
          "name": "stderr",
          "text": [
            "100%|██████████| 100/100 [00:58<00:00,  1.70it/s]\n"
          ]
        },
        {
          "output_type": "stream",
          "name": "stdout",
          "text": [
            "train Loss: 0.0140 Acc: 0.9941\n"
          ]
        },
        {
          "output_type": "stream",
          "name": "stderr",
          "text": [
            "100%|██████████| 25/25 [00:06<00:00,  3.86it/s]\n"
          ]
        },
        {
          "output_type": "stream",
          "name": "stdout",
          "text": [
            "val Loss: 0.3938 Acc: 0.9138\n",
            "Epoch 74/100\n",
            "-------------\n"
          ]
        },
        {
          "output_type": "stream",
          "name": "stderr",
          "text": [
            "100%|██████████| 100/100 [00:58<00:00,  1.70it/s]\n"
          ]
        },
        {
          "output_type": "stream",
          "name": "stdout",
          "text": [
            "train Loss: 0.0143 Acc: 0.9959\n"
          ]
        },
        {
          "output_type": "stream",
          "name": "stderr",
          "text": [
            "100%|██████████| 25/25 [00:06<00:00,  3.90it/s]\n"
          ]
        },
        {
          "output_type": "stream",
          "name": "stdout",
          "text": [
            "val Loss: 0.3396 Acc: 0.9313\n",
            "Epoch 75/100\n",
            "-------------\n"
          ]
        },
        {
          "output_type": "stream",
          "name": "stderr",
          "text": [
            "100%|██████████| 100/100 [00:59<00:00,  1.69it/s]\n"
          ]
        },
        {
          "output_type": "stream",
          "name": "stdout",
          "text": [
            "train Loss: 0.0141 Acc: 0.9950\n"
          ]
        },
        {
          "output_type": "stream",
          "name": "stderr",
          "text": [
            "100%|██████████| 25/25 [00:06<00:00,  3.88it/s]\n"
          ]
        },
        {
          "output_type": "stream",
          "name": "stdout",
          "text": [
            "val Loss: 0.3558 Acc: 0.9275\n",
            "Epoch 76/100\n",
            "-------------\n"
          ]
        },
        {
          "output_type": "stream",
          "name": "stderr",
          "text": [
            "100%|██████████| 100/100 [00:58<00:00,  1.70it/s]\n"
          ]
        },
        {
          "output_type": "stream",
          "name": "stdout",
          "text": [
            "train Loss: 0.0170 Acc: 0.9938\n"
          ]
        },
        {
          "output_type": "stream",
          "name": "stderr",
          "text": [
            "100%|██████████| 25/25 [00:06<00:00,  3.87it/s]\n"
          ]
        },
        {
          "output_type": "stream",
          "name": "stdout",
          "text": [
            "val Loss: 0.3456 Acc: 0.9225\n",
            "Epoch 77/100\n",
            "-------------\n"
          ]
        },
        {
          "output_type": "stream",
          "name": "stderr",
          "text": [
            "100%|██████████| 100/100 [00:58<00:00,  1.70it/s]\n"
          ]
        },
        {
          "output_type": "stream",
          "name": "stdout",
          "text": [
            "train Loss: 0.0094 Acc: 0.9962\n"
          ]
        },
        {
          "output_type": "stream",
          "name": "stderr",
          "text": [
            "100%|██████████| 25/25 [00:06<00:00,  3.85it/s]\n"
          ]
        },
        {
          "output_type": "stream",
          "name": "stdout",
          "text": [
            "val Loss: 0.3787 Acc: 0.9300\n",
            "Epoch 78/100\n",
            "-------------\n"
          ]
        },
        {
          "output_type": "stream",
          "name": "stderr",
          "text": [
            "100%|██████████| 100/100 [00:59<00:00,  1.69it/s]\n"
          ]
        },
        {
          "output_type": "stream",
          "name": "stdout",
          "text": [
            "train Loss: 0.0080 Acc: 0.9975\n"
          ]
        },
        {
          "output_type": "stream",
          "name": "stderr",
          "text": [
            "100%|██████████| 25/25 [00:06<00:00,  3.84it/s]\n"
          ]
        },
        {
          "output_type": "stream",
          "name": "stdout",
          "text": [
            "val Loss: 0.3940 Acc: 0.9225\n",
            "Epoch 79/100\n",
            "-------------\n"
          ]
        },
        {
          "output_type": "stream",
          "name": "stderr",
          "text": [
            "100%|██████████| 100/100 [00:58<00:00,  1.70it/s]\n"
          ]
        },
        {
          "output_type": "stream",
          "name": "stdout",
          "text": [
            "train Loss: 0.0087 Acc: 0.9966\n"
          ]
        },
        {
          "output_type": "stream",
          "name": "stderr",
          "text": [
            "100%|██████████| 25/25 [00:06<00:00,  3.87it/s]\n"
          ]
        },
        {
          "output_type": "stream",
          "name": "stdout",
          "text": [
            "val Loss: 0.3608 Acc: 0.9363\n",
            "Epoch 80/100\n",
            "-------------\n"
          ]
        },
        {
          "output_type": "stream",
          "name": "stderr",
          "text": [
            "100%|██████████| 100/100 [00:58<00:00,  1.70it/s]\n"
          ]
        },
        {
          "output_type": "stream",
          "name": "stdout",
          "text": [
            "train Loss: 0.0119 Acc: 0.9947\n"
          ]
        },
        {
          "output_type": "stream",
          "name": "stderr",
          "text": [
            "100%|██████████| 25/25 [00:06<00:00,  3.87it/s]\n"
          ]
        },
        {
          "output_type": "stream",
          "name": "stdout",
          "text": [
            "val Loss: 0.3309 Acc: 0.9375\n",
            "Epoch 81/100\n",
            "-------------\n"
          ]
        },
        {
          "output_type": "stream",
          "name": "stderr",
          "text": [
            "100%|██████████| 100/100 [00:58<00:00,  1.70it/s]\n"
          ]
        },
        {
          "output_type": "stream",
          "name": "stdout",
          "text": [
            "train Loss: 0.0068 Acc: 0.9988\n"
          ]
        },
        {
          "output_type": "stream",
          "name": "stderr",
          "text": [
            "100%|██████████| 25/25 [00:06<00:00,  3.69it/s]\n"
          ]
        },
        {
          "output_type": "stream",
          "name": "stdout",
          "text": [
            "val Loss: 0.3581 Acc: 0.9300\n",
            "Epoch 82/100\n",
            "-------------\n"
          ]
        },
        {
          "output_type": "stream",
          "name": "stderr",
          "text": [
            "100%|██████████| 100/100 [00:58<00:00,  1.70it/s]\n"
          ]
        },
        {
          "output_type": "stream",
          "name": "stdout",
          "text": [
            "train Loss: 0.0050 Acc: 0.9981\n"
          ]
        },
        {
          "output_type": "stream",
          "name": "stderr",
          "text": [
            "100%|██████████| 25/25 [00:06<00:00,  3.86it/s]\n"
          ]
        },
        {
          "output_type": "stream",
          "name": "stdout",
          "text": [
            "val Loss: 0.3716 Acc: 0.9300\n",
            "Epoch 83/100\n",
            "-------------\n"
          ]
        },
        {
          "output_type": "stream",
          "name": "stderr",
          "text": [
            "100%|██████████| 100/100 [00:58<00:00,  1.70it/s]\n"
          ]
        },
        {
          "output_type": "stream",
          "name": "stdout",
          "text": [
            "train Loss: 0.0060 Acc: 0.9984\n"
          ]
        },
        {
          "output_type": "stream",
          "name": "stderr",
          "text": [
            "100%|██████████| 25/25 [00:06<00:00,  3.86it/s]\n"
          ]
        },
        {
          "output_type": "stream",
          "name": "stdout",
          "text": [
            "val Loss: 0.3642 Acc: 0.9350\n",
            "Epoch 84/100\n",
            "-------------\n"
          ]
        },
        {
          "output_type": "stream",
          "name": "stderr",
          "text": [
            "100%|██████████| 100/100 [00:59<00:00,  1.69it/s]\n"
          ]
        },
        {
          "output_type": "stream",
          "name": "stdout",
          "text": [
            "train Loss: 0.0079 Acc: 0.9975\n"
          ]
        },
        {
          "output_type": "stream",
          "name": "stderr",
          "text": [
            "100%|██████████| 25/25 [00:06<00:00,  3.86it/s]\n"
          ]
        },
        {
          "output_type": "stream",
          "name": "stdout",
          "text": [
            "val Loss: 0.3757 Acc: 0.9287\n",
            "Epoch 85/100\n",
            "-------------\n"
          ]
        },
        {
          "output_type": "stream",
          "name": "stderr",
          "text": [
            "100%|██████████| 100/100 [00:59<00:00,  1.69it/s]\n"
          ]
        },
        {
          "output_type": "stream",
          "name": "stdout",
          "text": [
            "train Loss: 0.0109 Acc: 0.9969\n"
          ]
        },
        {
          "output_type": "stream",
          "name": "stderr",
          "text": [
            "100%|██████████| 25/25 [00:06<00:00,  3.83it/s]\n"
          ]
        },
        {
          "output_type": "stream",
          "name": "stdout",
          "text": [
            "val Loss: 0.3390 Acc: 0.9325\n",
            "Epoch 86/100\n",
            "-------------\n"
          ]
        },
        {
          "output_type": "stream",
          "name": "stderr",
          "text": [
            "100%|██████████| 100/100 [00:58<00:00,  1.70it/s]\n"
          ]
        },
        {
          "output_type": "stream",
          "name": "stdout",
          "text": [
            "train Loss: 0.0154 Acc: 0.9928\n"
          ]
        },
        {
          "output_type": "stream",
          "name": "stderr",
          "text": [
            "100%|██████████| 25/25 [00:06<00:00,  3.85it/s]\n"
          ]
        },
        {
          "output_type": "stream",
          "name": "stdout",
          "text": [
            "val Loss: 0.3258 Acc: 0.9337\n",
            "Epoch 87/100\n",
            "-------------\n"
          ]
        },
        {
          "output_type": "stream",
          "name": "stderr",
          "text": [
            "100%|██████████| 100/100 [00:59<00:00,  1.69it/s]\n"
          ]
        },
        {
          "output_type": "stream",
          "name": "stdout",
          "text": [
            "train Loss: 0.0165 Acc: 0.9947\n"
          ]
        },
        {
          "output_type": "stream",
          "name": "stderr",
          "text": [
            "100%|██████████| 25/25 [00:06<00:00,  3.85it/s]\n"
          ]
        },
        {
          "output_type": "stream",
          "name": "stdout",
          "text": [
            "val Loss: 0.4676 Acc: 0.9113\n",
            "Epoch 88/100\n",
            "-------------\n"
          ]
        },
        {
          "output_type": "stream",
          "name": "stderr",
          "text": [
            "100%|██████████| 100/100 [00:59<00:00,  1.69it/s]\n"
          ]
        },
        {
          "output_type": "stream",
          "name": "stdout",
          "text": [
            "train Loss: 0.0058 Acc: 0.9975\n"
          ]
        },
        {
          "output_type": "stream",
          "name": "stderr",
          "text": [
            "100%|██████████| 25/25 [00:06<00:00,  3.85it/s]\n"
          ]
        },
        {
          "output_type": "stream",
          "name": "stdout",
          "text": [
            "val Loss: 0.3589 Acc: 0.9313\n",
            "Epoch 89/100\n",
            "-------------\n"
          ]
        },
        {
          "output_type": "stream",
          "name": "stderr",
          "text": [
            "100%|██████████| 100/100 [00:58<00:00,  1.70it/s]\n"
          ]
        },
        {
          "output_type": "stream",
          "name": "stdout",
          "text": [
            "train Loss: 0.0079 Acc: 0.9972\n"
          ]
        },
        {
          "output_type": "stream",
          "name": "stderr",
          "text": [
            "100%|██████████| 25/25 [00:06<00:00,  3.87it/s]\n"
          ]
        },
        {
          "output_type": "stream",
          "name": "stdout",
          "text": [
            "val Loss: 0.3842 Acc: 0.9275\n",
            "Epoch 90/100\n",
            "-------------\n"
          ]
        },
        {
          "output_type": "stream",
          "name": "stderr",
          "text": [
            "100%|██████████| 100/100 [00:59<00:00,  1.69it/s]\n"
          ]
        },
        {
          "output_type": "stream",
          "name": "stdout",
          "text": [
            "train Loss: 0.0105 Acc: 0.9969\n"
          ]
        },
        {
          "output_type": "stream",
          "name": "stderr",
          "text": [
            "100%|██████████| 25/25 [00:06<00:00,  3.89it/s]\n"
          ]
        },
        {
          "output_type": "stream",
          "name": "stdout",
          "text": [
            "val Loss: 0.4569 Acc: 0.9175\n",
            "Epoch 91/100\n",
            "-------------\n"
          ]
        },
        {
          "output_type": "stream",
          "name": "stderr",
          "text": [
            "100%|██████████| 100/100 [00:59<00:00,  1.69it/s]\n"
          ]
        },
        {
          "output_type": "stream",
          "name": "stdout",
          "text": [
            "train Loss: 0.0083 Acc: 0.9969\n"
          ]
        },
        {
          "output_type": "stream",
          "name": "stderr",
          "text": [
            "100%|██████████| 25/25 [00:06<00:00,  3.86it/s]\n"
          ]
        },
        {
          "output_type": "stream",
          "name": "stdout",
          "text": [
            "val Loss: 0.3638 Acc: 0.9363\n",
            "Epoch 92/100\n",
            "-------------\n"
          ]
        },
        {
          "output_type": "stream",
          "name": "stderr",
          "text": [
            "100%|██████████| 100/100 [00:59<00:00,  1.69it/s]\n"
          ]
        },
        {
          "output_type": "stream",
          "name": "stdout",
          "text": [
            "train Loss: 0.0049 Acc: 0.9988\n"
          ]
        },
        {
          "output_type": "stream",
          "name": "stderr",
          "text": [
            "100%|██████████| 25/25 [00:06<00:00,  3.86it/s]\n"
          ]
        },
        {
          "output_type": "stream",
          "name": "stdout",
          "text": [
            "val Loss: 0.3729 Acc: 0.9363\n",
            "Epoch 93/100\n",
            "-------------\n"
          ]
        },
        {
          "output_type": "stream",
          "name": "stderr",
          "text": [
            "100%|██████████| 100/100 [00:58<00:00,  1.70it/s]\n"
          ]
        },
        {
          "output_type": "stream",
          "name": "stdout",
          "text": [
            "train Loss: 0.0081 Acc: 0.9966\n"
          ]
        },
        {
          "output_type": "stream",
          "name": "stderr",
          "text": [
            "100%|██████████| 25/25 [00:06<00:00,  3.85it/s]\n"
          ]
        },
        {
          "output_type": "stream",
          "name": "stdout",
          "text": [
            "val Loss: 0.3895 Acc: 0.9313\n",
            "Epoch 94/100\n",
            "-------------\n"
          ]
        },
        {
          "output_type": "stream",
          "name": "stderr",
          "text": [
            "100%|██████████| 100/100 [00:58<00:00,  1.70it/s]\n"
          ]
        },
        {
          "output_type": "stream",
          "name": "stdout",
          "text": [
            "train Loss: 0.0073 Acc: 0.9984\n"
          ]
        },
        {
          "output_type": "stream",
          "name": "stderr",
          "text": [
            "100%|██████████| 25/25 [00:06<00:00,  3.90it/s]\n"
          ]
        },
        {
          "output_type": "stream",
          "name": "stdout",
          "text": [
            "val Loss: 0.3708 Acc: 0.9300\n",
            "Epoch 95/100\n",
            "-------------\n"
          ]
        },
        {
          "output_type": "stream",
          "name": "stderr",
          "text": [
            "100%|██████████| 100/100 [00:59<00:00,  1.69it/s]\n"
          ]
        },
        {
          "output_type": "stream",
          "name": "stdout",
          "text": [
            "train Loss: 0.0096 Acc: 0.9956\n"
          ]
        },
        {
          "output_type": "stream",
          "name": "stderr",
          "text": [
            "100%|██████████| 25/25 [00:06<00:00,  3.88it/s]\n"
          ]
        },
        {
          "output_type": "stream",
          "name": "stdout",
          "text": [
            "val Loss: 0.3462 Acc: 0.9313\n",
            "Epoch 96/100\n",
            "-------------\n"
          ]
        },
        {
          "output_type": "stream",
          "name": "stderr",
          "text": [
            "100%|██████████| 100/100 [00:58<00:00,  1.70it/s]\n"
          ]
        },
        {
          "output_type": "stream",
          "name": "stdout",
          "text": [
            "train Loss: 0.0043 Acc: 0.9991\n"
          ]
        },
        {
          "output_type": "stream",
          "name": "stderr",
          "text": [
            "100%|██████████| 25/25 [00:06<00:00,  3.84it/s]\n"
          ]
        },
        {
          "output_type": "stream",
          "name": "stdout",
          "text": [
            "val Loss: 0.3536 Acc: 0.9337\n",
            "Epoch 97/100\n",
            "-------------\n"
          ]
        },
        {
          "output_type": "stream",
          "name": "stderr",
          "text": [
            "100%|██████████| 100/100 [00:58<00:00,  1.70it/s]\n"
          ]
        },
        {
          "output_type": "stream",
          "name": "stdout",
          "text": [
            "train Loss: 0.0023 Acc: 0.9994\n"
          ]
        },
        {
          "output_type": "stream",
          "name": "stderr",
          "text": [
            "100%|██████████| 25/25 [00:06<00:00,  3.87it/s]\n"
          ]
        },
        {
          "output_type": "stream",
          "name": "stdout",
          "text": [
            "val Loss: 0.3770 Acc: 0.9263\n",
            "Epoch 98/100\n",
            "-------------\n"
          ]
        },
        {
          "output_type": "stream",
          "name": "stderr",
          "text": [
            "100%|██████████| 100/100 [00:58<00:00,  1.70it/s]\n"
          ]
        },
        {
          "output_type": "stream",
          "name": "stdout",
          "text": [
            "train Loss: 0.0069 Acc: 0.9978\n"
          ]
        },
        {
          "output_type": "stream",
          "name": "stderr",
          "text": [
            "100%|██████████| 25/25 [00:06<00:00,  3.69it/s]\n"
          ]
        },
        {
          "output_type": "stream",
          "name": "stdout",
          "text": [
            "val Loss: 0.3811 Acc: 0.9287\n",
            "Epoch 99/100\n",
            "-------------\n"
          ]
        },
        {
          "output_type": "stream",
          "name": "stderr",
          "text": [
            "100%|██████████| 100/100 [00:58<00:00,  1.70it/s]\n"
          ]
        },
        {
          "output_type": "stream",
          "name": "stdout",
          "text": [
            "train Loss: 0.0058 Acc: 0.9991\n"
          ]
        },
        {
          "output_type": "stream",
          "name": "stderr",
          "text": [
            "100%|██████████| 25/25 [00:06<00:00,  3.89it/s]\n"
          ]
        },
        {
          "output_type": "stream",
          "name": "stdout",
          "text": [
            "val Loss: 0.3870 Acc: 0.9325\n",
            "Epoch 100/100\n",
            "-------------\n"
          ]
        },
        {
          "output_type": "stream",
          "name": "stderr",
          "text": [
            "100%|██████████| 100/100 [00:58<00:00,  1.70it/s]\n"
          ]
        },
        {
          "output_type": "stream",
          "name": "stdout",
          "text": [
            "train Loss: 0.0048 Acc: 0.9984\n"
          ]
        },
        {
          "output_type": "stream",
          "name": "stderr",
          "text": [
            "100%|██████████| 25/25 [00:06<00:00,  3.84it/s]"
          ]
        },
        {
          "output_type": "stream",
          "name": "stdout",
          "text": [
            "val Loss: 0.4117 Acc: 0.9263\n"
          ]
        },
        {
          "output_type": "stream",
          "name": "stderr",
          "text": [
            "\n"
          ]
        }
      ]
    },
    {
      "cell_type": "code",
      "source": [
        "# PyTorch 네트워크 파라미터 저장\n",
        "save_path = './weights_fine_tuning(100).pth'\n",
        "torch.save(net.state_dict(), save_path)"
      ],
      "metadata": {
        "id": "IblNWnlafpSH"
      },
      "execution_count": null,
      "outputs": []
    },
    {
      "cell_type": "code",
      "source": [
        "import os\n",
        "import urllib.request\n",
        "import zipfile\n",
        "import tarfile\n",
        "\n",
        "model_dir = \"./\"\n",
        "\n",
        "url = 'https://abit.ly/3tmu7o'\n",
        "target_path = os.path.join(model_dir, \"model.tar\") \n",
        "\n",
        "if not os.path.exists(target_path):\n",
        "    urllib.request.urlretrieve(url, target_path)\n",
        "\n",
        "    tar = tarfile.TarFile(target_path) \n",
        "    tar.extractall(model_dir)\n",
        "    tar.close()"
      ],
      "metadata": {
        "id": "73TiQvEfYDJH"
      },
      "execution_count": 10,
      "outputs": []
    },
    {
      "cell_type": "code",
      "source": [
        "image_dir = \"./\"\n",
        "\n",
        "url = 'https://abit.ly/iwjaa0'\n",
        "target_path = os.path.join(image_dir, \"image.tar\") \n",
        "\n",
        "if not os.path.exists(target_path):\n",
        "    urllib.request.urlretrieve(url, target_path)\n",
        "\n",
        "    tar = tarfile.TarFile(target_path) \n",
        "    tar.extractall(image_dir)\n",
        "    tar.close()"
      ],
      "metadata": {
        "id": "CLRkSwS0YRaA"
      },
      "execution_count": null,
      "outputs": []
    },
    {
      "cell_type": "code",
      "source": [
        "import glob\n",
        "import os.path as osp\n",
        "import random\n",
        "import numpy as np\n",
        "import json\n",
        "from PIL import Image\n",
        "from tqdm import tqdm\n",
        "import matplotlib.pyplot as plt\n",
        "%matplotlib inline\n",
        "\n",
        "import torch\n",
        "import torch.nn as nn\n",
        "import torch.optim as optim\n",
        "import torch.utils.data as data\n",
        "import torchvision\n",
        "from torchvision import models, transforms"
      ],
      "metadata": {
        "id": "1QFXKRkjlBM9"
      },
      "execution_count": 11,
      "outputs": []
    },
    {
      "cell_type": "code",
      "source": [
        "class ImageTransform():\n",
        "\n",
        "    def __init__(self, resize, mean, std):\n",
        "        self.data_transform = {\n",
        "            'check': transforms.Compose([\n",
        "                transforms.Resize(resize),  # 리사이즈\n",
        "                transforms.CenterCrop(resize),  # 이미지 중앙을 resize × resize로 자른다\n",
        "                transforms.ToTensor(),  # 텐서로 변환\n",
        "                transforms.Normalize(mean, std)  # 표준화\n",
        "            ])\n",
        "        }\n",
        "\n",
        "    def __call__(self, img, phase='check'):\n",
        "        return self.data_transform[phase](img)"
      ],
      "metadata": {
        "id": "8YjCU76-chak"
      },
      "execution_count": null,
      "outputs": []
    },
    {
      "cell_type": "code",
      "source": [
        "def make_datapath_list(phase=\"train\"):\n",
        "\n",
        "    rootpath = \"./image/\"\n",
        "    target_path = osp.join(rootpath+phase+'/human/*.png')\n",
        "    print(target_path)\n",
        "\n",
        "    path_list = []  # 여기에 저장한다\n",
        "\n",
        "    # glob을 이용하여 하위 디렉토리의 파일 경로를 가져온다\n",
        "    for path in glob.glob(target_path):\n",
        "        path_list.append(path)\n",
        "\n",
        "    return path_list\n",
        "\n",
        "check_list = make_datapath_list(phase=\"check\")\n",
        "check_list"
      ],
      "metadata": {
        "colab": {
          "base_uri": "https://localhost:8080/"
        },
        "id": "RFfwVhCibfXQ",
        "outputId": "b66ed41d-83a8-4f68-9d68-48365010b325"
      },
      "execution_count": null,
      "outputs": [
        {
          "output_type": "stream",
          "name": "stdout",
          "text": [
            "./image/check/human/*.png\n"
          ]
        },
        {
          "output_type": "execute_result",
          "data": {
            "text/plain": [
              "['./image/check/human/5893850.png',\n",
              " './image/check/human/5893777.png',\n",
              " './image/check/human/5893758.png',\n",
              " './image/check/human/5893788.png',\n",
              " './image/check/human/5893808.png',\n",
              " './image/check/human/5893794.png',\n",
              " './image/check/human/5893791.png',\n",
              " './image/check/human/5893834.png',\n",
              " './image/check/human/5893824.png',\n",
              " './image/check/human/5893822.png',\n",
              " './image/check/human/5893781.png',\n",
              " './image/check/human/5893792.png',\n",
              " './image/check/human/5893805.png',\n",
              " './image/check/human/5893801.png',\n",
              " './image/check/human/5893812.png',\n",
              " './image/check/human/5893846.png',\n",
              " './image/check/human/5893821.png',\n",
              " './image/check/human/5893845.png',\n",
              " './image/check/human/5893830.png',\n",
              " './image/check/human/5893836.png',\n",
              " './image/check/human/5893809.png',\n",
              " './image/check/human/5893764.png',\n",
              " './image/check/human/5893754.png',\n",
              " './image/check/human/5893759.png',\n",
              " './image/check/human/5893753.png',\n",
              " './image/check/human/5893766.png',\n",
              " './image/check/human/5893843.png',\n",
              " './image/check/human/5893816.png',\n",
              " './image/check/human/5893772.png',\n",
              " './image/check/human/5893813.png',\n",
              " './image/check/human/5893761.png',\n",
              " './image/check/human/5893778.png',\n",
              " './image/check/human/5893763.png',\n",
              " './image/check/human/5893789.png',\n",
              " './image/check/human/5893842.png',\n",
              " './image/check/human/5893837.png',\n",
              " './image/check/human/5893760.png',\n",
              " './image/check/human/5893770.png',\n",
              " './image/check/human/5893839.png',\n",
              " './image/check/human/5893851.png',\n",
              " './image/check/human/5893757.png',\n",
              " './image/check/human/5893782.png',\n",
              " './image/check/human/5893804.png',\n",
              " './image/check/human/5893773.png',\n",
              " './image/check/human/5893835.png',\n",
              " './image/check/human/5893823.png',\n",
              " './image/check/human/5893849.png',\n",
              " './image/check/human/5893840.png',\n",
              " './image/check/human/5893786.png',\n",
              " './image/check/human/5893752.png',\n",
              " './image/check/human/5893811.png',\n",
              " './image/check/human/5893797.png',\n",
              " './image/check/human/5893803.png',\n",
              " './image/check/human/5893750.png',\n",
              " './image/check/human/5893807.png',\n",
              " './image/check/human/5893814.png',\n",
              " './image/check/human/5893771.png',\n",
              " './image/check/human/5893838.png',\n",
              " './image/check/human/5893795.png',\n",
              " './image/check/human/5893810.png',\n",
              " './image/check/human/5893847.png',\n",
              " './image/check/human/5893841.png',\n",
              " './image/check/human/5893767.png',\n",
              " './image/check/human/5893815.png',\n",
              " './image/check/human/5893802.png',\n",
              " './image/check/human/5893765.png',\n",
              " './image/check/human/5893826.png',\n",
              " './image/check/human/5893799.png',\n",
              " './image/check/human/5893793.png',\n",
              " './image/check/human/5893756.png',\n",
              " './image/check/human/5893800.png',\n",
              " './image/check/human/5893783.png',\n",
              " './image/check/human/5893819.png',\n",
              " './image/check/human/5893785.png',\n",
              " './image/check/human/5893829.png',\n",
              " './image/check/human/5893779.png',\n",
              " './image/check/human/5893768.png',\n",
              " './image/check/human/5893780.png',\n",
              " './image/check/human/5893825.png',\n",
              " './image/check/human/5893806.png',\n",
              " './image/check/human/5893844.png',\n",
              " './image/check/human/5893848.png',\n",
              " './image/check/human/5893833.png',\n",
              " './image/check/human/5893798.png',\n",
              " './image/check/human/5893762.png',\n",
              " './image/check/human/5893751.png',\n",
              " './image/check/human/5893827.png',\n",
              " './image/check/human/5893831.png',\n",
              " './image/check/human/5893820.png',\n",
              " './image/check/human/5893790.png',\n",
              " './image/check/human/5893769.png',\n",
              " './image/check/human/5893817.png',\n",
              " './image/check/human/5893828.png',\n",
              " './image/check/human/5893784.png',\n",
              " './image/check/human/5893796.png',\n",
              " './image/check/human/5893818.png',\n",
              " './image/check/human/5893774.png',\n",
              " './image/check/human/5893755.png',\n",
              " './image/check/human/5893787.png']"
            ]
          },
          "metadata": {},
          "execution_count": 127
        }
      ]
    },
    {
      "cell_type": "code",
      "source": [
        "class HymenopteraDataset(data.Dataset):\n",
        "\n",
        "    def __init__(self, file_list, transform=None, phase='train'):\n",
        "        self.file_list = file_list  # 파일 경로 리스트\n",
        "        self.transform = transform  # 전처리 클래스의 인스턴스\n",
        "        self.phase = phase  # train or val 지정\n",
        "\n",
        "    def __len__(self):\n",
        "        '''화상 개수를 반환'''\n",
        "        return len(self.file_list)\n",
        "\n",
        "    def __getitem__(self, index):\n",
        "        '''\n",
        "        전처리한 화상의 Tensor 형식의 데이터와 라벨을 취득\n",
        "        '''\n",
        "\n",
        "        # index번째의 화상을 로드\n",
        "        img_path = self.file_list[index]\n",
        "        img = Image.open(img_path).convert('RGB')  # [높이][너비][색RGB]\n",
        "\n",
        "        # 화상의 전처리를 실시\n",
        "        img_transformed = self.transform(\n",
        "            img, self.phase)  # torch.Size([3, 224, 224])\n",
        "\n",
        "        # 화상 라벨을 파일 이름에서 추출\n",
        "        label = img_path[14:16]\n",
        "\n",
        "\n",
        "        # 라벨을 숫자로 변경\n",
        "        if label == \"ai\":\n",
        "            label = 0\n",
        "        elif label == \"hu\":\n",
        "            label = 1\n",
        "\n",
        "        return img_transformed, label\n",
        "\n",
        "\n",
        "# 실행\n",
        "size = 224\n",
        "mean = (0.485, 0.456, 0.406)\n",
        "std = (0.229, 0.224, 0.225)\n",
        "\n",
        "check_dataset = HymenopteraDataset(\n",
        "    file_list=check_list, transform=ImageTransform(size, mean, std), phase='check')\n",
        "\n",
        "# 동작 확인\n",
        "index = 0\n",
        "print(check_dataset.__getitem__(index)[0].size())\n",
        "print(check_dataset.__getitem__(index)[1])"
      ],
      "metadata": {
        "colab": {
          "base_uri": "https://localhost:8080/"
        },
        "id": "Ph8bb-upb0Wf",
        "outputId": "b8e52fbd-b833-4dda-eb5e-89846121915f"
      },
      "execution_count": null,
      "outputs": [
        {
          "output_type": "stream",
          "name": "stdout",
          "text": [
            "torch.Size([3, 224, 224])\n",
            "1\n"
          ]
        }
      ]
    },
    {
      "cell_type": "code",
      "source": [
        "batch_size = 32\n",
        "\n",
        "# DataLoader 작성\n",
        "check_dataloader = torch.utils.data.DataLoader(\n",
        "    check_dataset, batch_size=batch_size, shuffle=False)\n",
        "\n",
        "# 사전형 변수에 정리\n",
        "\n",
        "# 동작 확인\n",
        "batch_iterator = iter(check_dataloader)  # 반복자(iterator)로 변환\n",
        "inputs, labels = next(\n",
        "    batch_iterator)  # 첫번째 요소를 추출\n",
        "print(inputs.size())\n",
        "print(labels)"
      ],
      "metadata": {
        "colab": {
          "base_uri": "https://localhost:8080/"
        },
        "id": "5IQg40o3c8it",
        "outputId": "be625bf5-1a2a-49e5-9397-222153ed6cc3"
      },
      "execution_count": null,
      "outputs": [
        {
          "output_type": "stream",
          "name": "stdout",
          "text": [
            "torch.Size([32, 3, 224, 224])\n",
            "tensor([1, 1, 1, 1, 1, 1, 1, 1, 1, 1, 1, 1, 1, 1, 1, 1, 1, 1, 1, 1, 1, 1, 1, 1,\n",
            "        1, 1, 1, 1, 1, 1, 1, 1])\n"
          ]
        }
      ]
    },
    {
      "cell_type": "markdown",
      "source": [
        "# test를 위한 net 설정\n"
      ],
      "metadata": {
        "id": "KimOVUGmf0JM"
      }
    },
    {
      "cell_type": "code",
      "source": [
        "use_pretrained = True  # 학습된 파라미터를 사용\n",
        "net = models.vgg16(pretrained=use_pretrained)\n",
        "\n",
        "# VGG16의 마지막 출력층의 출력 유닛을 개미와 벌의 2개로 바꾼다\n",
        "net.classifier[6] = nn.Linear(in_features=4096, out_features=2)\n",
        "\n",
        "# 훈련 모드로 설정\n",
        "net.train()"
      ],
      "metadata": {
        "colab": {
          "base_uri": "https://localhost:8080/"
        },
        "outputId": "ab438ecf-0895-4d2e-ccba-693b40df273b",
        "id": "bWA-NZZDfwv8"
      },
      "execution_count": 47,
      "outputs": [
        {
          "output_type": "execute_result",
          "data": {
            "text/plain": [
              "VGG(\n",
              "  (features): Sequential(\n",
              "    (0): Conv2d(3, 64, kernel_size=(3, 3), stride=(1, 1), padding=(1, 1))\n",
              "    (1): ReLU(inplace=True)\n",
              "    (2): Conv2d(64, 64, kernel_size=(3, 3), stride=(1, 1), padding=(1, 1))\n",
              "    (3): ReLU(inplace=True)\n",
              "    (4): MaxPool2d(kernel_size=2, stride=2, padding=0, dilation=1, ceil_mode=False)\n",
              "    (5): Conv2d(64, 128, kernel_size=(3, 3), stride=(1, 1), padding=(1, 1))\n",
              "    (6): ReLU(inplace=True)\n",
              "    (7): Conv2d(128, 128, kernel_size=(3, 3), stride=(1, 1), padding=(1, 1))\n",
              "    (8): ReLU(inplace=True)\n",
              "    (9): MaxPool2d(kernel_size=2, stride=2, padding=0, dilation=1, ceil_mode=False)\n",
              "    (10): Conv2d(128, 256, kernel_size=(3, 3), stride=(1, 1), padding=(1, 1))\n",
              "    (11): ReLU(inplace=True)\n",
              "    (12): Conv2d(256, 256, kernel_size=(3, 3), stride=(1, 1), padding=(1, 1))\n",
              "    (13): ReLU(inplace=True)\n",
              "    (14): Conv2d(256, 256, kernel_size=(3, 3), stride=(1, 1), padding=(1, 1))\n",
              "    (15): ReLU(inplace=True)\n",
              "    (16): MaxPool2d(kernel_size=2, stride=2, padding=0, dilation=1, ceil_mode=False)\n",
              "    (17): Conv2d(256, 512, kernel_size=(3, 3), stride=(1, 1), padding=(1, 1))\n",
              "    (18): ReLU(inplace=True)\n",
              "    (19): Conv2d(512, 512, kernel_size=(3, 3), stride=(1, 1), padding=(1, 1))\n",
              "    (20): ReLU(inplace=True)\n",
              "    (21): Conv2d(512, 512, kernel_size=(3, 3), stride=(1, 1), padding=(1, 1))\n",
              "    (22): ReLU(inplace=True)\n",
              "    (23): MaxPool2d(kernel_size=2, stride=2, padding=0, dilation=1, ceil_mode=False)\n",
              "    (24): Conv2d(512, 512, kernel_size=(3, 3), stride=(1, 1), padding=(1, 1))\n",
              "    (25): ReLU(inplace=True)\n",
              "    (26): Conv2d(512, 512, kernel_size=(3, 3), stride=(1, 1), padding=(1, 1))\n",
              "    (27): ReLU(inplace=True)\n",
              "    (28): Conv2d(512, 512, kernel_size=(3, 3), stride=(1, 1), padding=(1, 1))\n",
              "    (29): ReLU(inplace=True)\n",
              "    (30): MaxPool2d(kernel_size=2, stride=2, padding=0, dilation=1, ceil_mode=False)\n",
              "  )\n",
              "  (avgpool): AdaptiveAvgPool2d(output_size=(7, 7))\n",
              "  (classifier): Sequential(\n",
              "    (0): Linear(in_features=25088, out_features=4096, bias=True)\n",
              "    (1): ReLU(inplace=True)\n",
              "    (2): Dropout(p=0.5, inplace=False)\n",
              "    (3): Linear(in_features=4096, out_features=4096, bias=True)\n",
              "    (4): ReLU(inplace=True)\n",
              "    (5): Dropout(p=0.5, inplace=False)\n",
              "    (6): Linear(in_features=4096, out_features=2, bias=True)\n",
              "  )\n",
              ")"
            ]
          },
          "metadata": {},
          "execution_count": 47
        }
      ]
    },
    {
      "cell_type": "code",
      "source": [
        "criterion = nn.CrossEntropyLoss()"
      ],
      "metadata": {
        "id": "WLY2pUdjfwwB"
      },
      "execution_count": 48,
      "outputs": []
    },
    {
      "cell_type": "code",
      "source": [
        "# 파인 튜닝으로 학습할 파라미터를 params_to_update 변수의 1~3에 저장한다\n",
        "\n",
        "params_to_update_1 = []\n",
        "params_to_update_2 = []\n",
        "params_to_update_3 = []\n",
        "\n",
        "# 학습시킬 층의 파라미터명을 지정\n",
        "update_param_names_1 = [\"features\"]\n",
        "update_param_names_2 = [\"classifier.0.weight\",\n",
        "                        \"classifier.0.bias\", \"classifier.3.weight\", \"classifier.3.bias\"]\n",
        "update_param_names_3 = [\"classifier.6.weight\", \"classifier.6.bias\"]\n",
        "\n",
        "# 파라미터를 각각 리스트에 저장\n",
        "for name, param in net.named_parameters():\n",
        "    if update_param_names_1[0] in name:\n",
        "        param.requires_grad = True\n",
        "        params_to_update_1.append(param)\n",
        "        print(\"params_to_update_1에 저장: \", name)\n",
        "\n",
        "    elif name in update_param_names_2:\n",
        "        param.requires_grad = True\n",
        "        params_to_update_2.append(param)\n",
        "        print(\"params_to_update_2에 저장: \", name)\n",
        "\n",
        "    elif name in update_param_names_3:\n",
        "        param.requires_grad = True\n",
        "        params_to_update_3.append(param)\n",
        "        print(\"params_to_update_3에 저장: \", name)\n",
        "\n",
        "    else:\n",
        "        param.requires_grad = False\n",
        "        print(\"경사 계산없음. 학습하지 않음: \", name)\n"
      ],
      "metadata": {
        "colab": {
          "base_uri": "https://localhost:8080/"
        },
        "outputId": "1f128db5-1801-4fc3-bde3-7218f2c21d05",
        "id": "bOGSWoSzfwwB"
      },
      "execution_count": 49,
      "outputs": [
        {
          "output_type": "stream",
          "name": "stdout",
          "text": [
            "params_to_update_1에 저장:  features.0.weight\n",
            "params_to_update_1에 저장:  features.0.bias\n",
            "params_to_update_1에 저장:  features.2.weight\n",
            "params_to_update_1에 저장:  features.2.bias\n",
            "params_to_update_1에 저장:  features.5.weight\n",
            "params_to_update_1에 저장:  features.5.bias\n",
            "params_to_update_1에 저장:  features.7.weight\n",
            "params_to_update_1에 저장:  features.7.bias\n",
            "params_to_update_1에 저장:  features.10.weight\n",
            "params_to_update_1에 저장:  features.10.bias\n",
            "params_to_update_1에 저장:  features.12.weight\n",
            "params_to_update_1에 저장:  features.12.bias\n",
            "params_to_update_1에 저장:  features.14.weight\n",
            "params_to_update_1에 저장:  features.14.bias\n",
            "params_to_update_1에 저장:  features.17.weight\n",
            "params_to_update_1에 저장:  features.17.bias\n",
            "params_to_update_1에 저장:  features.19.weight\n",
            "params_to_update_1에 저장:  features.19.bias\n",
            "params_to_update_1에 저장:  features.21.weight\n",
            "params_to_update_1에 저장:  features.21.bias\n",
            "params_to_update_1에 저장:  features.24.weight\n",
            "params_to_update_1에 저장:  features.24.bias\n",
            "params_to_update_1에 저장:  features.26.weight\n",
            "params_to_update_1에 저장:  features.26.bias\n",
            "params_to_update_1에 저장:  features.28.weight\n",
            "params_to_update_1에 저장:  features.28.bias\n",
            "params_to_update_2에 저장:  classifier.0.weight\n",
            "params_to_update_2에 저장:  classifier.0.bias\n",
            "params_to_update_2에 저장:  classifier.3.weight\n",
            "params_to_update_2에 저장:  classifier.3.bias\n",
            "params_to_update_3에 저장:  classifier.6.weight\n",
            "params_to_update_3에 저장:  classifier.6.bias\n"
          ]
        }
      ]
    },
    {
      "cell_type": "code",
      "source": [
        "# 최적화 기법 설정\n",
        "optimizer = optim.SGD([\n",
        "    {'params': params_to_update_1, 'lr': 1e-4},\n",
        "    {'params': params_to_update_2, 'lr': 5e-4},\n",
        "    {'params': params_to_update_3, 'lr': 1e-3}\n",
        "], momentum=0.9)\n"
      ],
      "metadata": {
        "id": "PrMfeGtdfwwC"
      },
      "execution_count": 50,
      "outputs": []
    },
    {
      "cell_type": "code",
      "source": [
        "# 모델을 학습시키는 함수를 작성\n",
        "def train_model(net, dataloaders_dict, criterion, optimizer, num_epochs):\n",
        "\n",
        "    # 초기 설정\n",
        "    # GPU가 사용 가능한지 확인\n",
        "    device = torch.device(\"cuda:0\" if torch.cuda.is_available() else \"cpu\")\n",
        "    print(\"사용 장치: \", device)\n",
        "\n",
        "    # 네트워크를 GPU로\n",
        "    net.to(device)\n",
        "\n",
        "    # 네트워크가 어느 정도 고정되면, 고속화시킨다\n",
        "    torch.backends.cudnn.benchmark = True\n",
        "\n",
        "    # epoch 루프\n",
        "    for epoch in range(num_epochs):\n",
        "        print('Epoch {}/{}'.format(epoch+1, num_epochs))\n",
        "        print('-------------')\n",
        "\n",
        "        # epoch별 훈련 및 검증 루프\n",
        "        for phase in ['train', 'val']:\n",
        "            if phase == 'train':\n",
        "                net.train()  # 모델을 훈련 모드로\n",
        "            else:\n",
        "                net.eval()   # 모델을 검증 모드로\n",
        "\n",
        "            epoch_loss = 0.0  # epoch 손실의 합\n",
        "            epoch_corrects = 0  # epoch 정답수\n",
        "\n",
        "            # 미학습시의 검증 성능을 확인하기 위해 epoch=0의 훈련은 생략\n",
        "            if (epoch == 0) and (phase == 'train'):\n",
        "                continue\n",
        "\n",
        "            # 데이터 로더에서 미니 배치를 꺼내 루프\n",
        "            for inputs, labels in tqdm(dataloaders_dict[phase]):\n",
        "\n",
        "                # GPU가 사용 가능하면 GPU에 데이터 보내기\n",
        "                inputs = inputs.to(device)\n",
        "                labels = labels.to(device)\n",
        "\n",
        "                # optimizer를 초기화\n",
        "                optimizer.zero_grad()\n",
        "\n",
        "                # 순전파(forward) 계산\n",
        "                with torch.set_grad_enabled(phase == 'train'):\n",
        "                    outputs = net(inputs)\n",
        "                    loss = criterion(outputs, labels)  # 손실 계산\n",
        "                    _, preds = torch.max(outputs, 1)  # 라벨 예측\n",
        "\n",
        "                    # 훈련시에는 오차 역전파법\n",
        "                    if phase == 'train':\n",
        "                        loss.backward()\n",
        "                        optimizer.step()\n",
        "\n",
        "                    # 결과 계산\n",
        "                    epoch_loss += loss.item() * inputs.size(0)  # loss의 합계를 갱신\n",
        "                    # 정답 수의 합계를 갱신\n",
        "                    epoch_corrects += torch.sum(preds == labels.data)\n",
        "\n",
        "            # epoch별 loss와 정답률을 표시\n",
        "            epoch_loss = epoch_loss / len(dataloaders_dict[phase].dataset)\n",
        "            epoch_acc = epoch_corrects.double(\n",
        "            ) / len(dataloaders_dict[phase].dataset)\n",
        "\n",
        "            print('{} Loss: {:.4f} Acc: {:.4f}'.format(\n",
        "                phase, epoch_loss, epoch_acc))\n"
      ],
      "metadata": {
        "id": "1i95qVYGfwwC"
      },
      "execution_count": 51,
      "outputs": []
    },
    {
      "cell_type": "markdown",
      "source": [
        "# 모델 로드 밑 테스트"
      ],
      "metadata": {
        "id": "7P07YK3Vf_wR"
      }
    },
    {
      "cell_type": "code",
      "source": [
        "# PyTorch 네트워크 파라미터 로드\n",
        "load_path = './weights_fine_tuning.pth'\n",
        "load_weights = torch.load(load_path)\n",
        "net.load_state_dict(load_weights)"
      ],
      "metadata": {
        "id": "KHfmNoR6waJY",
        "colab": {
          "base_uri": "https://localhost:8080/"
        },
        "outputId": "f7a2ea18-bad6-4ab8-831a-f0f36a891a41"
      },
      "execution_count": 52,
      "outputs": [
        {
          "output_type": "execute_result",
          "data": {
            "text/plain": [
              "<All keys matched successfully>"
            ]
          },
          "metadata": {},
          "execution_count": 52
        }
      ]
    },
    {
      "cell_type": "code",
      "source": [
        "# 실험용 데이터와 결과 출력\n",
        "correct = 0\n",
        "total = 0\n",
        "with torch.no_grad():\n",
        "    for data in val_dataloader:\n",
        "        images, labels = data\n",
        "        outputs = net(images)\n",
        "        _, predicted = torch.max(outputs.data, 1)\n",
        "        total += labels.size(0)\n",
        "        correct += (predicted == labels).sum().item()"
      ],
      "metadata": {
        "id": "QJYh4qEnebrJ"
      },
      "execution_count": 53,
      "outputs": []
    },
    {
      "cell_type": "code",
      "source": [
        "print('val 정확도: %d %%' % (\n",
        "    100 * correct / total))"
      ],
      "metadata": {
        "colab": {
          "base_uri": "https://localhost:8080/"
        },
        "id": "jXmKVRf2e37u",
        "outputId": "24e9c1f3-6143-4fda-ece0-4fc348633166"
      },
      "execution_count": 54,
      "outputs": [
        {
          "output_type": "stream",
          "name": "stdout",
          "text": [
            "val 정확도: 88 %\n"
          ]
        }
      ]
    },
    {
      "cell_type": "code",
      "source": [
        "correct"
      ],
      "metadata": {
        "colab": {
          "base_uri": "https://localhost:8080/"
        },
        "id": "cQgUbOWklTWn",
        "outputId": "4a70607c-9075-4421-d03c-6d2bc4caa756"
      },
      "execution_count": null,
      "outputs": [
        {
          "output_type": "execute_result",
          "data": {
            "text/plain": [
              "87"
            ]
          },
          "metadata": {},
          "execution_count": 100
        }
      ]
    },
    {
      "cell_type": "code",
      "source": [
        "image_file_path = './9.png'\n",
        "img = Image.open(image_file_path).convert('RGB')   # [높이][너비][색RGB]\n",
        "\n",
        "# 전처리 후, 배치 크기의 차원을 추가\n",
        "transform = BaseTransform(resize, mean, std)  # 전처리 클래스 작성\n",
        "img_transformed = transform(img)  # torch.Size([3, 224, 224])\n",
        "inputs = img_transformed.unsqueeze_(0)  # torch.Size([1, 3, 224, 224])\n",
        "\n",
        "out = net(inputs)  # torch.Size([1, 1000])\n",
        "result = torch.max(out, 1)\n",
        "\n",
        "\n",
        "# 예측 결과를 출력\n",
        "print(\"입력 화상의 예측 결과: \", result)"
      ],
      "metadata": {
        "colab": {
          "base_uri": "https://localhost:8080/"
        },
        "id": "XgtAeYkK0YHY",
        "outputId": "2907dd88-a745-4de3-bba0-1e8711e0c0e8"
      },
      "execution_count": null,
      "outputs": [
        {
          "output_type": "stream",
          "name": "stdout",
          "text": [
            "입력 화상의 예측 결과:  torch.return_types.max(\n",
            "values=tensor([0.2869], grad_fn=<MaxBackward0>),\n",
            "indices=tensor([1]))\n"
          ]
        }
      ]
    }
  ]
}